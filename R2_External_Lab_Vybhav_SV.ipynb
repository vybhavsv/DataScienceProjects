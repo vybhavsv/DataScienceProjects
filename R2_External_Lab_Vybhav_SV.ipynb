{
 "cells": [
  {
   "cell_type": "markdown",
   "metadata": {
    "colab_type": "text",
    "id": "xx5CxeVubU3W"
   },
   "source": [
    "# Hypothesis Testing"
   ]
  },
  {
   "cell_type": "markdown",
   "metadata": {
    "colab_type": "text",
    "id": "6OR23eWKbU3X"
   },
   "source": [
    "The purpose of the test is to tell if there is any significant difference between two data sets.\n",
    "\n"
   ]
  },
  {
   "cell_type": "markdown",
   "metadata": {
    "colab_type": "text",
    "id": "604OoWnTbU3Z"
   },
   "source": [
    "## Overview"
   ]
  },
  {
   "cell_type": "markdown",
   "metadata": {
    "colab_type": "text",
    "id": "o-il1iBSbU3b"
   },
   "source": [
    "This module covers,\n",
    "\n",
    "1) One sample and Two sample t-tests\n",
    "\n",
    "2) ANOVA\n",
    "\n",
    "3) Type I and Type II errors\n",
    "\n",
    "4) Chi-Squared Tests"
   ]
  },
  {
   "cell_type": "markdown",
   "metadata": {
    "colab_type": "text",
    "id": "G2yYl5cvbU3c"
   },
   "source": [
    "## Question 1 \n",
    "\n",
    "*A student is trying to decide between two GPUs. He want to use the GPU for his research to run Deep learning algorithms, so the only thing he is concerned with is speed.*\n",
    "\n",
    "*He picks a Deep Learning algorithm on a large data set and runs it on both GPUs 15 times, timing each run in hours. Results are given in the below lists GPU1 and GPU2.*"
   ]
  },
  {
   "cell_type": "code",
   "execution_count": 75,
   "metadata": {
    "colab": {},
    "colab_type": "code",
    "id": "ohh5XJ4ZbU3d"
   },
   "outputs": [],
   "source": [
    "from scipy import stats \n",
    "from scipy.stats import ttest_1samp,ttest_ind\n",
    "import matplotlib.pyplot as plt\n",
    "import numpy as np\n",
    "import pandas as pd"
   ]
  },
  {
   "cell_type": "code",
   "execution_count": 76,
   "metadata": {
    "colab": {},
    "colab_type": "code",
    "id": "6yGkYI6EbU3i"
   },
   "outputs": [],
   "source": [
    "GPU1 = np.array([11,9,10,11,10,12,9,11,12,9,11,12,9,10,9])\n",
    "GPU2 = np.array([11,13,10,13,12,9,11,12,12,11,12,12,10,11,13])\n",
    "\n",
    "#Assumption: Both the datasets (GPU1 & GPU 2) are random, independent, parametric & normally distributed"
   ]
  },
  {
   "cell_type": "markdown",
   "metadata": {
    "colab_type": "text",
    "id": "L55jqmIXbU3m"
   },
   "source": [
    "Hint: You can import ttest function from scipy to perform t tests "
   ]
  },
  {
   "cell_type": "markdown",
   "metadata": {
    "colab_type": "text",
    "id": "v8fsIhPFbU3n"
   },
   "source": [
    "**First T test**\n",
    "\n",
    "*One sample t-test*\n",
    "\n",
    "Check if the mean of the GPU1 is equal to zero.\n",
    "- Null Hypothesis is that mean is equal to zero.\n",
    "- Alternate hypothesis is that it is not equal to zero."
   ]
  },
  {
   "cell_type": "code",
   "execution_count": 77,
   "metadata": {},
   "outputs": [
    {
     "data": {
      "text/plain": [
       "Ttest_1sampResult(statistic=34.056241516158195, pvalue=7.228892044970457e-15)"
      ]
     },
     "execution_count": 77,
     "metadata": {},
     "output_type": "execute_result"
    }
   ],
   "source": [
    "ttest_GPU1=stats.ttest_1samp(GPU1, 0)\n",
    "ttest_GPU1"
   ]
  },
  {
   "cell_type": "code",
   "execution_count": 78,
   "metadata": {},
   "outputs": [
    {
     "name": "stdout",
     "output_type": "stream",
     "text": [
      "p-value is 7.228892044970457e-15 and it is less than 5% level of significance. So the statistical decision is to reject the null hypothesis.\n"
     ]
    }
   ],
   "source": [
    "print(\"p-value is 7.228892044970457e-15 and it is less than 5% level of significance. So the statistical decision is to reject the null hypothesis.\")"
   ]
  },
  {
   "cell_type": "markdown",
   "metadata": {
    "colab_type": "text",
    "id": "byu8iw46bU3v"
   },
   "source": [
    "## Question 2"
   ]
  },
  {
   "cell_type": "markdown",
   "metadata": {
    "colab_type": "text",
    "id": "E65pzWcJbU3w"
   },
   "source": [
    "Given,\n",
    "\n",
    "Null Hypothesis : There is no significant difference between data sets\n",
    "\n",
    "Alternate Hypothesis : There is a significant difference\n",
    "\n",
    "*Do two-sample testing and check whether to reject Null Hypothesis or not.*"
   ]
  },
  {
   "cell_type": "markdown",
   "metadata": {
    "colab_type": "text",
    "id": "N-zpWvyXbU32"
   },
   "source": [
    "https://docs.scipy.org/doc/scipy/reference/generated/scipy.stats.ttest_ind.html"
   ]
  },
  {
   "cell_type": "code",
   "execution_count": 79,
   "metadata": {
    "colab": {},
    "colab_type": "code",
    "id": "UDDkuOtObU3x"
   },
   "outputs": [
    {
     "data": {
      "text/plain": [
       "Ttest_indResult(statistic=-2.627629513471839, pvalue=0.013794282041452725)"
      ]
     },
     "execution_count": 79,
     "metadata": {},
     "output_type": "execute_result"
    }
   ],
   "source": [
    "ttest = ttest_ind(GPU1,GPU2)\n",
    "ttest"
   ]
  },
  {
   "cell_type": "code",
   "execution_count": 80,
   "metadata": {},
   "outputs": [
    {
     "name": "stdout",
     "output_type": "stream",
     "text": [
      "p-value is 0.013794282041452725 and it is less than 5% level of significance. So the statistical decision is to reject the null hypothesis.\n"
     ]
    }
   ],
   "source": [
    "print(\"p-value is 0.013794282041452725 and it is less than 5% level of significance. So the statistical decision is to reject the null hypothesis.\")"
   ]
  },
  {
   "cell_type": "markdown",
   "metadata": {
    "colab_type": "text",
    "id": "MbXv5aZvbU33"
   },
   "source": [
    "## Question 3\n",
    "\n",
    "He is trying a third GPU - GPU3."
   ]
  },
  {
   "cell_type": "code",
   "execution_count": 81,
   "metadata": {
    "colab": {},
    "colab_type": "code",
    "id": "kkh_sQl4bU34"
   },
   "outputs": [],
   "source": [
    "GPU3 = np.array([9,10,9,11,10,13,12,9,12,12,13,12,13,10,11])\n",
    "\n",
    "#Assumption: Both the datasets (GPU1 & GPU 3) are random, independent, parametric & normally distributed"
   ]
  },
  {
   "cell_type": "markdown",
   "metadata": {
    "colab_type": "text",
    "id": "WoYNz3g7bU37"
   },
   "source": [
    "*Do two-sample testing and check whether there is significant differene between speeds of two GPUs GPU1 and GPU3.*\n",
    "\n",
    "#### Answer:"
   ]
  },
  {
   "cell_type": "code",
   "execution_count": 82,
   "metadata": {
    "colab": {},
    "colab_type": "code",
    "id": "X4N11XArbU38"
   },
   "outputs": [
    {
     "name": "stdout",
     "output_type": "stream",
     "text": [
      "[ 2 -1  1  0  0 -1 -3  2  0 -3 -2  0 -4  0 -2]\n",
      "Mean is -0.73 and standard deviation is 1.79\n"
     ]
    }
   ],
   "source": [
    "D  = GPU1-GPU3\n",
    "print(D)\n",
    "print('Mean is %3.2f and standard deviation is %3.2f' %(D.mean(),np.std(D,ddof = 1)))"
   ]
  },
  {
   "cell_type": "code",
   "execution_count": 83,
   "metadata": {},
   "outputs": [
    {
     "name": "stdout",
     "output_type": "stream",
     "text": [
      "P Value 0.135\n"
     ]
    }
   ],
   "source": [
    "t_statistic, p_value  =  stats.ttest_1samp(D, 0)\n",
    "print('P Value %1.3f' % p_value) "
   ]
  },
  {
   "cell_type": "code",
   "execution_count": 84,
   "metadata": {},
   "outputs": [
    {
     "name": "stdout",
     "output_type": "stream",
     "text": [
      "Ttest_indResult(statistic=-1.4988943759093303, pvalue=0.14509210993138993)\n",
      "p-value is 0.14509210993138993 and it is greater than 5% level of significance. So the statistical decision is to accept the null hypothesis.\n"
     ]
    }
   ],
   "source": [
    "ttest1 = ttest_ind(GPU1,GPU3)\n",
    "print(ttest1)\n",
    "print(\"p-value is 0.14509210993138993 and it is greater than 5% level of significance. So the statistical decision is to accept the null hypothesis.\")"
   ]
  },
  {
   "cell_type": "markdown",
   "metadata": {
    "colab_type": "text",
    "id": "oyDFS4WZbU4A"
   },
   "source": [
    "## ANOVA"
   ]
  },
  {
   "cell_type": "markdown",
   "metadata": {
    "colab_type": "text",
    "id": "wknPzstFbU4B"
   },
   "source": [
    "## Question 4 \n",
    "\n",
    "If you need to compare more than two data sets at a time, an ANOVA is your best bet. \n",
    "\n",
    "*The results from three experiments with overlapping 95% confidence intervals are given below, and we want to confirm that the results for all three experiments are not significantly different.*\n",
    "\n",
    "But before conducting ANOVA, test equality of variances (using Levene's test) is satisfied or not. If not, then mention that we cannot depend on the result of ANOVA"
   ]
  },
  {
   "cell_type": "code",
   "execution_count": 85,
   "metadata": {
    "colab": {},
    "colab_type": "code",
    "id": "kGb0GeK8bU4C"
   },
   "outputs": [],
   "source": [
    "import numpy as np\n",
    "\n",
    "e1 = np.array([1.595440,1.419730,0.000000,0.000000])\n",
    "e2 = np.array([1.433800,2.079700,0.892139,2.384740])\n",
    "e3 = np.array([0.036930,0.938018,0.995956,1.006970])\n",
    "\n",
    "#Assumption: All the 3 datasets (e1,e2 & e3) are random, independent, parametric & normally distributed"
   ]
  },
  {
   "cell_type": "markdown",
   "metadata": {
    "colab_type": "text",
    "id": "_xiYN6gVbU4G"
   },
   "source": [
    "Perform levene test on the data\n",
    "\n",
    "The Levene test tests the null hypothesis that all input samples are from populations with equal variances. Levene’s test is an alternative to Bartlett’s test bartlett in the case where there are significant deviations from normality.\n",
    "\n",
    "source: scipy.org"
   ]
  },
  {
   "cell_type": "markdown",
   "metadata": {
    "colab_type": "text",
    "id": "f2MlJTXgbU4H"
   },
   "source": [
    "#### Answer:"
   ]
  },
  {
   "cell_type": "code",
   "execution_count": 86,
   "metadata": {
    "colab": {},
    "colab_type": "code",
    "id": "VUJP_GGQbU4R"
   },
   "outputs": [
    {
     "data": {
      "text/plain": [
       "LeveneResult(statistic=2.6741725711150446, pvalue=0.12259792666001798)"
      ]
     },
     "execution_count": 86,
     "metadata": {},
     "output_type": "execute_result"
    }
   ],
   "source": [
    "LeveneTestResult = stats.levene(e1,e2,e3)\n",
    "LeveneTestResult"
   ]
  },
  {
   "cell_type": "markdown",
   "metadata": {
    "colab_type": "text",
    "id": "FigxGCQtbU4Y"
   },
   "source": [
    "## Question 5\n",
    "\n",
    "The one-way ANOVA tests the null hypothesis that two or more groups have the same population mean. The test is applied to samples from two or more groups, possibly with differing sizes.\n",
    "\n",
    "use stats.f_oneway() module to perform one-way ANOVA test"
   ]
  },
  {
   "cell_type": "code",
   "execution_count": 87,
   "metadata": {
    "colab": {},
    "colab_type": "code",
    "id": "P3bPYPCbbU4Z"
   },
   "outputs": [
    {
     "data": {
      "text/plain": [
       "F_onewayResult(statistic=2.51357622845924, pvalue=0.13574644501798466)"
      ]
     },
     "execution_count": 87,
     "metadata": {},
     "output_type": "execute_result"
    }
   ],
   "source": [
    "stats.f_oneway(e1,e2,e3)"
   ]
  },
  {
   "cell_type": "markdown",
   "metadata": {
    "colab_type": "text",
    "id": "yrMK1qb7bU4j"
   },
   "source": [
    "## Question 6\n",
    "\n",
    "*In one or two sentences explain about **TypeI** and **TypeII** errors.*\n",
    "\n",
    "#### Answer:"
   ]
  },
  {
   "cell_type": "code",
   "execution_count": 88,
   "metadata": {},
   "outputs": [
    {
     "name": "stdout",
     "output_type": "stream",
     "text": [
      "Type-I error occurs when a null hypothesis is rejected when it is actually true. In other words, it occurs when we try to find out something that does not possibly exist at all. It is also called 'false positive' or 'alpha error'.\n"
     ]
    }
   ],
   "source": [
    "print(\"Type-I error occurs when a null hypothesis is rejected when it is actually true. In other words, it occurs when we try to find out something that does not possibly exist at all. It is also called 'false positive' or 'alpha error'.\")"
   ]
  },
  {
   "cell_type": "code",
   "execution_count": 89,
   "metadata": {},
   "outputs": [
    {
     "name": "stdout",
     "output_type": "stream",
     "text": [
      "Type-II error occurs when a null hypothesis is not rejected when it is actually false. In other words, it occurs when we try to ignore something that actually exists. It is also called 'false negative' or 'beta error'.\n"
     ]
    }
   ],
   "source": [
    "print(\"Type-II error occurs when a null hypothesis is not rejected when it is actually false. In other words, it occurs when we try to ignore something that actually exists. It is also called 'false negative' or 'beta error'.\")"
   ]
  },
  {
   "cell_type": "markdown",
   "metadata": {
    "colab_type": "text",
    "id": "hm7v3pcIbU4m"
   },
   "source": [
    "## Question 7 \n",
    "\n",
    "You are a manager of a chinese restaurant. You want to determine whether the waiting time to place an order has changed in the past month from its previous population mean value of 4.5 minutes. \n",
    "State the null and alternative hypothesis.\n",
    "\n",
    "#### Answer:\n"
   ]
  },
  {
   "cell_type": "code",
   "execution_count": 90,
   "metadata": {},
   "outputs": [
    {
     "name": "stdout",
     "output_type": "stream",
     "text": [
      " Check if the mean of the current month is equal to 4.5 minutes.\n",
      "\n",
      " Null Hypothesis is that mean is equal to 4.5 minutes, which means there is no significant difference\n",
      " Alternate hypothesis is that it is not equal 4.5 minutes, which means there is significant difference \n"
     ]
    }
   ],
   "source": [
    "print(\"\"\" Check if the mean of the current month is equal to 4.5 minutes.\n",
    "\n",
    " Null Hypothesis is that mean is equal to 4.5 minutes, which means there is no significant difference\n",
    " Alternate hypothesis is that it is not equal 4.5 minutes, which means there is significant difference \"\"\")\n"
   ]
  },
  {
   "cell_type": "markdown",
   "metadata": {
    "colab_type": "text",
    "id": "1SGpq-dKbU4r"
   },
   "source": [
    "## Chi square test"
   ]
  },
  {
   "cell_type": "markdown",
   "metadata": {
    "colab_type": "text",
    "id": "WlxmIu_rdgpc"
   },
   "source": [
    "## Question 8"
   ]
  },
  {
   "cell_type": "markdown",
   "metadata": {
    "colab_type": "text",
    "id": "8J3V015PbU4s"
   },
   "source": [
    "Let's create a small dataset for dice rolls of four players"
   ]
  },
  {
   "cell_type": "code",
   "execution_count": 91,
   "metadata": {
    "colab": {},
    "colab_type": "code",
    "id": "xrO5BbIEbU4t"
   },
   "outputs": [],
   "source": [
    "import numpy as np\n",
    "\n",
    "d1 = [5, 8, 3, 8]\n",
    "d2 = [9, 6, 8, 5]\n",
    "d3 = [8, 12, 7, 2]\n",
    "d4 = [4, 16, 7, 3]\n",
    "d5 = [3, 9, 6, 5]\n",
    "d6 = [7, 2, 5, 7]\n",
    "\n",
    "dice = np.array([d1, d2, d3, d4, d5, d6])"
   ]
  },
  {
   "cell_type": "markdown",
   "metadata": {
    "colab_type": "text",
    "id": "uF7GRMChbU4x"
   },
   "source": [
    "run the test using SciPy Stats library\n",
    "\n",
    "Depending on the test, we are generally looking for a threshold at either 0.05 or 0.01. Our test is significant (i.e. we reject the null hypothesis) if we get a p-value below our threshold.\n",
    "\n",
    "For our purposes, we’ll use 0.01 as the threshold.\n",
    "\n",
    "use stats.chi2_contingency() module \n",
    "\n",
    "This function computes the chi-square statistic and p-value for the hypothesis test of independence of the observed frequencies in the contingency table\n",
    "\n",
    "Print the following:\n",
    "\n",
    "- chi2 stat\n",
    "- p-value\n",
    "- degree of freedom\n",
    "- contingency\n",
    "\n"
   ]
  },
  {
   "cell_type": "code",
   "execution_count": 92,
   "metadata": {
    "colab": {},
    "colab_type": "code",
    "id": "vqaTIKmgbU4y"
   },
   "outputs": [
    {
     "name": "stdout",
     "output_type": "stream",
     "text": [
      "(23.315671914716496, 0.07766367301496693, 15, array([[ 5.57419355,  8.20645161,  5.57419355,  4.64516129],\n",
      "       [ 6.50322581,  9.57419355,  6.50322581,  5.41935484],\n",
      "       [ 6.73548387,  9.91612903,  6.73548387,  5.61290323],\n",
      "       [ 6.96774194, 10.25806452,  6.96774194,  5.80645161],\n",
      "       [ 5.34193548,  7.86451613,  5.34193548,  4.4516129 ],\n",
      "       [ 4.87741935,  7.18064516,  4.87741935,  4.06451613]]))\n"
     ]
    }
   ],
   "source": [
    "chi2_stat=stats.chi2_contingency(dice)\n",
    "print(chi2_stat)"
   ]
  },
  {
   "cell_type": "code",
   "execution_count": 93,
   "metadata": {},
   "outputs": [
    {
     "name": "stdout",
     "output_type": "stream",
     "text": [
      "23.315671914716496\n",
      "0.07766367301496693\n",
      "15\n",
      "[[ 5.57419355  8.20645161  5.57419355  4.64516129]\n",
      " [ 6.50322581  9.57419355  6.50322581  5.41935484]\n",
      " [ 6.73548387  9.91612903  6.73548387  5.61290323]\n",
      " [ 6.96774194 10.25806452  6.96774194  5.80645161]\n",
      " [ 5.34193548  7.86451613  5.34193548  4.4516129 ]\n",
      " [ 4.87741935  7.18064516  4.87741935  4.06451613]]\n",
      "\n",
      "\n",
      "For this test, p-value is 0.07766367301496693, which is greater than 0.01 and so we accept the null hypothesis\n"
     ]
    }
   ],
   "source": [
    "chi2, pval, dof, expected = stats.chi2_contingency(dice)\n",
    "print(chi2)\n",
    "print(pval)\n",
    "print(dof)\n",
    "print(expected)\n",
    "print('\\n')\n",
    "print(\"For this test, p-value is 0.07766367301496693, which is greater than 0.01 and so we accept the null hypothesis\")"
   ]
  },
  {
   "cell_type": "markdown",
   "metadata": {
    "colab_type": "text",
    "id": "VzyfaNoabU42"
   },
   "source": [
    "## Question 9\n",
    "\n",
    "### Z-test\n",
    "\n",
    "Get zscore on the above dice data using stats.zscore module from scipy. Convert zscore values to p-value and take mean of the array."
   ]
  },
  {
   "cell_type": "code",
   "execution_count": 94,
   "metadata": {
    "colab": {},
    "colab_type": "code",
    "id": "Sd5xPCuRbU43"
   },
   "outputs": [
    {
     "data": {
      "text/plain": [
       "array([[-0.46291005, -0.18884739, -1.83711731,  1.44115338],\n",
       "       [ 1.38873015, -0.64208114,  1.22474487,  0.        ],\n",
       "       [ 0.9258201 ,  0.7176201 ,  0.61237244, -1.44115338],\n",
       "       [-0.9258201 ,  1.62408759,  0.61237244, -0.96076892],\n",
       "       [-1.38873015,  0.03776948,  0.        ,  0.        ],\n",
       "       [ 0.46291005, -1.54854863, -0.61237244,  0.96076892]])"
      ]
     },
     "execution_count": 94,
     "metadata": {},
     "output_type": "execute_result"
    }
   ],
   "source": [
    "dicearr_zs=stats.zscore(dice)\n",
    "dicearr_zs"
   ]
  },
  {
   "cell_type": "code",
   "execution_count": 95,
   "metadata": {},
   "outputs": [
    {
     "data": {
      "text/plain": [
       "-3.700743415417188e-17"
      ]
     },
     "execution_count": 95,
     "metadata": {},
     "output_type": "execute_result"
    }
   ],
   "source": [
    "dicearr_zs.mean()"
   ]
  },
  {
   "cell_type": "code",
   "execution_count": 96,
   "metadata": {},
   "outputs": [
    {
     "data": {
      "text/plain": [
       "array([[0.32171442, 0.42510621, 0.03309629, 0.07477068],\n",
       "       [0.08245741, 0.26041025, 0.11033568, 0.5       ],\n",
       "       [0.17726974, 0.23649578, 0.27014569, 0.07477068],\n",
       "       [0.17726974, 0.05217856, 0.27014569, 0.16833418],\n",
       "       [0.08245741, 0.48493574, 0.5       , 0.5       ],\n",
       "       [0.32171442, 0.06074513, 0.27014569, 0.16833418]])"
      ]
     },
     "execution_count": 96,
     "metadata": {},
     "output_type": "execute_result"
    }
   ],
   "source": [
    "dice_z2p = stats.norm.sf(abs(dicearr_zs))\n",
    "dice_z2p"
   ]
  },
  {
   "cell_type": "code",
   "execution_count": 97,
   "metadata": {},
   "outputs": [
    {
     "data": {
      "text/plain": [
       "0.23428473233691496"
      ]
     },
     "execution_count": 97,
     "metadata": {},
     "output_type": "execute_result"
    }
   ],
   "source": [
    "dice_z2p.mean()"
   ]
  },
  {
   "cell_type": "code",
   "execution_count": 98,
   "metadata": {},
   "outputs": [
    {
     "data": {
      "text/plain": [
       "array([[0.32171442, 0.42510621, 0.03309629, 0.92522932],\n",
       "       [0.91754259, 0.26041025, 0.88966432, 0.5       ],\n",
       "       [0.82273026, 0.76350422, 0.72985431, 0.07477068],\n",
       "       [0.17726974, 0.94782144, 0.72985431, 0.16833418],\n",
       "       [0.08245741, 0.51506426, 0.5       , 0.5       ],\n",
       "       [0.67828558, 0.06074513, 0.27014569, 0.83166582]])"
      ]
     },
     "execution_count": 98,
     "metadata": {},
     "output_type": "execute_result"
    }
   ],
   "source": [
    "dice_z2p_cdf = stats.norm.cdf(dicearr_zs)\n",
    "dice_z2p_cdf"
   ]
  },
  {
   "cell_type": "code",
   "execution_count": 99,
   "metadata": {},
   "outputs": [
    {
     "data": {
      "text/plain": [
       "0.505219434874248"
      ]
     },
     "execution_count": 99,
     "metadata": {},
     "output_type": "execute_result"
    }
   ],
   "source": [
    "dice_z2p_cdf.mean()"
   ]
  },
  {
   "cell_type": "markdown",
   "metadata": {
    "colab_type": "text",
    "id": "OyoFUxf5bU47"
   },
   "source": [
    "## Question 10\n",
    "\n",
    "A Paired sample t-test compares means from the same group at different times.\n",
    "\n",
    "The basic two sample t-test is designed for testing differences between independent groups. \n",
    "In some cases, you might be interested in testing differences between samples of the same group at different points in time. \n",
    "We can conduct a paired t-test using the scipy function stats.ttest_rel(). "
   ]
  },
  {
   "cell_type": "code",
   "execution_count": 100,
   "metadata": {
    "colab": {},
    "colab_type": "code",
    "id": "SwVmQ1gRbU48"
   },
   "outputs": [],
   "source": [
    "before= stats.norm.rvs(scale=30, loc=100, size=500) ## Creates a normal distribution with a mean value of 100 and std of 30\n",
    "after = before + stats.norm.rvs(scale=5, loc=-1.25, size=500)"
   ]
  },
  {
   "cell_type": "markdown",
   "metadata": {
    "colab_type": "text",
    "id": "rB_os5FjbU4_"
   },
   "source": [
    "Test whether a weight-loss drug works by checking the weights of the same group patients before and after treatment using above data."
   ]
  },
  {
   "cell_type": "code",
   "execution_count": 101,
   "metadata": {
    "colab": {},
    "colab_type": "code",
    "id": "Fq2wyEqlbU5A"
   },
   "outputs": [
    {
     "data": {
      "text/plain": [
       "Ttest_relResult(statistic=5.506409036709403, pvalue=5.870404970388121e-08)"
      ]
     },
     "execution_count": 101,
     "metadata": {},
     "output_type": "execute_result"
    }
   ],
   "source": [
    "stats.ttest_rel(before,after)"
   ]
  },
  {
   "cell_type": "code",
   "execution_count": 102,
   "metadata": {},
   "outputs": [
    {
     "name": "stdout",
     "output_type": "stream",
     "text": [
      "The Null Hypothesis can be rejected for above test result, since p-value is less than 5% level of significance. \n"
     ]
    }
   ],
   "source": [
    "print(\"The Null Hypothesis can be rejected for above test result, since p-value is less than 5% level of significance. \")"
   ]
  }
 ],
 "metadata": {
  "colab": {
   "collapsed_sections": [],
   "name": "R2_external-lab_hypothesis_testing_questions.ipynb",
   "provenance": [],
   "version": "0.3.2"
  },
  "kernelspec": {
   "display_name": "Python 3",
   "language": "python",
   "name": "python3"
  },
  "language_info": {
   "codemirror_mode": {
    "name": "ipython",
    "version": 3
   },
   "file_extension": ".py",
   "mimetype": "text/x-python",
   "name": "python",
   "nbconvert_exporter": "python",
   "pygments_lexer": "ipython3",
   "version": "3.7.3"
  }
 },
 "nbformat": 4,
 "nbformat_minor": 1
}
