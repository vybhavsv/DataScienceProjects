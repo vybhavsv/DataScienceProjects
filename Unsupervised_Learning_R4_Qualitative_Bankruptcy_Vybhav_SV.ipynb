{
 "cells": [
  {
   "cell_type": "markdown",
   "metadata": {},
   "source": [
    "# Unsupervised_Learning_R4_Qualitative_Bankruptcy_Project"
   ]
  },
  {
   "cell_type": "markdown",
   "metadata": {},
   "source": [
    "## Please follow the below steps to complete the project ( 60 points)\n",
    "1. Read the dataset and understand the features and target variable. 4 points\n",
    "2. Encode independent features. 4 points\n",
    "3. Separate the dependant variable from the rest of the train data 2 point\n",
    "4. Split the dataset into training and test data ( Take 80:20 ratio). 2 points\n",
    "5. Apply PCA on the independent features of train data. 2 point\n",
    "6. Display elbow plot to find out reduced number of dimensions (which covers more than 95% of the variance). 6 points\n",
    "7. Transform the data using PCA ( select optimum number of PCs). 4 points\n",
    "8. Apply KMeans algorithm on the above transformed data. 6 points\n",
    "9. Select optimal number of clusters and form clusters out of the train data. 10 points\n",
    "10. Create a new column in the train data and populate it with the cluster labels. 4 points\n",
    "11. Transform the test data using the same PCA object that was fit on the train data. 4 points\n",
    "12. Use the same kmeans object, assign cluster labels to the test data and store it as a feature. 4 points\n",
    "13. Apply SVC model on train dataset and predict target for test dataset. 6 points\n",
    "14. Check accuracy and confusion matrix. 2 point"
   ]
  },
  {
   "cell_type": "code",
   "execution_count": 1,
   "metadata": {},
   "outputs": [],
   "source": [
    "#Import all the necessary modules\n",
    "\n",
    "# To enable plotting graphs in Jupyter notebook\n",
    "%matplotlib inline \n",
    "\n",
    "# Importing ploting libraries\n",
    "import matplotlib.pyplot as plt\n",
    "from pandas.plotting import scatter_matrix\n",
    "\n",
    "# Importing seaborn for statistical plots\n",
    "import seaborn as sns\n",
    "\n",
    "import pandas as pd\n",
    "import numpy as np\n",
    "\n",
    "# To let us break the X and y dataframes into training set and test set. We need to use\n",
    "# Sklearn package's data splitting function which is based on random function\n",
    "from sklearn import model_selection\n",
    "from sklearn.model_selection import train_test_split\n",
    "\n",
    "# Calculate accuracy measures and confusion matrix\n",
    "from sklearn import metrics\n",
    "from sklearn import svm\n",
    "from sklearn.naive_bayes import GaussianNB\n",
    "from sklearn.metrics import accuracy_score\n",
    "from sklearn.metrics import confusion_matrix\n",
    "from sklearn.tree import DecisionTreeClassifier\n",
    "from sklearn.tree import DecisionTreeRegressor\n",
    "from sklearn.metrics import classification_report\n",
    "from sklearn.ensemble import RandomForestClassifier\n",
    "from sklearn.neighbors import KNeighborsClassifier\n",
    "from sklearn.linear_model import LogisticRegression\n",
    "\n",
    "# For preprocessing the data\n",
    "from sklearn.preprocessing import LabelEncoder\n",
    "from sklearn.preprocessing import OneHotEncoder\n",
    "from sklearn.preprocessing import StandardScaler\n",
    "from sklearn.preprocessing import MinMaxScaler\n",
    "from sklearn.preprocessing import Normalizer\n",
    "from sklearn.decomposition import PCA\n",
    "from scipy.stats import zscore\n"
   ]
  },
  {
   "cell_type": "code",
   "execution_count": 2,
   "metadata": {},
   "outputs": [
    {
     "data": {
      "text/html": [
       "<div>\n",
       "<style scoped>\n",
       "    .dataframe tbody tr th:only-of-type {\n",
       "        vertical-align: middle;\n",
       "    }\n",
       "\n",
       "    .dataframe tbody tr th {\n",
       "        vertical-align: top;\n",
       "    }\n",
       "\n",
       "    .dataframe thead th {\n",
       "        text-align: right;\n",
       "    }\n",
       "</style>\n",
       "<table border=\"1\" class=\"dataframe\">\n",
       "  <thead>\n",
       "    <tr style=\"text-align: right;\">\n",
       "      <th></th>\n",
       "      <th>Industrial Risk</th>\n",
       "      <th>Management Risk</th>\n",
       "      <th>Financial Flexibility</th>\n",
       "      <th>Credibility</th>\n",
       "      <th>Competitiveness</th>\n",
       "      <th>Operating Risk</th>\n",
       "      <th>Class</th>\n",
       "    </tr>\n",
       "  </thead>\n",
       "  <tbody>\n",
       "    <tr>\n",
       "      <th>0</th>\n",
       "      <td>P</td>\n",
       "      <td>P</td>\n",
       "      <td>A</td>\n",
       "      <td>A</td>\n",
       "      <td>A</td>\n",
       "      <td>P</td>\n",
       "      <td>NB</td>\n",
       "    </tr>\n",
       "    <tr>\n",
       "      <th>1</th>\n",
       "      <td>N</td>\n",
       "      <td>N</td>\n",
       "      <td>A</td>\n",
       "      <td>A</td>\n",
       "      <td>A</td>\n",
       "      <td>N</td>\n",
       "      <td>NB</td>\n",
       "    </tr>\n",
       "    <tr>\n",
       "      <th>2</th>\n",
       "      <td>A</td>\n",
       "      <td>A</td>\n",
       "      <td>A</td>\n",
       "      <td>A</td>\n",
       "      <td>A</td>\n",
       "      <td>A</td>\n",
       "      <td>NB</td>\n",
       "    </tr>\n",
       "    <tr>\n",
       "      <th>3</th>\n",
       "      <td>P</td>\n",
       "      <td>P</td>\n",
       "      <td>P</td>\n",
       "      <td>P</td>\n",
       "      <td>P</td>\n",
       "      <td>P</td>\n",
       "      <td>NB</td>\n",
       "    </tr>\n",
       "    <tr>\n",
       "      <th>4</th>\n",
       "      <td>N</td>\n",
       "      <td>N</td>\n",
       "      <td>P</td>\n",
       "      <td>P</td>\n",
       "      <td>P</td>\n",
       "      <td>N</td>\n",
       "      <td>NB</td>\n",
       "    </tr>\n",
       "  </tbody>\n",
       "</table>\n",
       "</div>"
      ],
      "text/plain": [
       "  Industrial Risk Management Risk Financial Flexibility Credibility  \\\n",
       "0               P               P                     A           A   \n",
       "1               N               N                     A           A   \n",
       "2               A               A                     A           A   \n",
       "3               P               P                     P           P   \n",
       "4               N               N                     P           P   \n",
       "\n",
       "  Competitiveness Operating Risk Class  \n",
       "0               A              P    NB  \n",
       "1               A              N    NB  \n",
       "2               A              A    NB  \n",
       "3               P              P    NB  \n",
       "4               P              N    NB  "
      ]
     },
     "execution_count": 2,
     "metadata": {},
     "output_type": "execute_result"
    }
   ],
   "source": [
    "# Load the data into a dataframe\n",
    "colnames = [\"Industrial Risk\", \"Management Risk\", \"Financial Flexibility\", \"Credibility\", \"Competitiveness\", \"Operating Risk\", \"Class\"]\n",
    "QB_df=pd.read_csv(\"Qualitative_Bankruptcy.data.txt\", names = colnames) \n",
    "QB_df.head()"
   ]
  },
  {
   "cell_type": "code",
   "execution_count": 3,
   "metadata": {},
   "outputs": [
    {
     "data": {
      "text/html": [
       "<div>\n",
       "<style scoped>\n",
       "    .dataframe tbody tr th:only-of-type {\n",
       "        vertical-align: middle;\n",
       "    }\n",
       "\n",
       "    .dataframe tbody tr th {\n",
       "        vertical-align: top;\n",
       "    }\n",
       "\n",
       "    .dataframe thead th {\n",
       "        text-align: right;\n",
       "    }\n",
       "</style>\n",
       "<table border=\"1\" class=\"dataframe\">\n",
       "  <thead>\n",
       "    <tr style=\"text-align: right;\">\n",
       "      <th></th>\n",
       "      <th>count</th>\n",
       "      <th>unique</th>\n",
       "      <th>top</th>\n",
       "      <th>freq</th>\n",
       "    </tr>\n",
       "  </thead>\n",
       "  <tbody>\n",
       "    <tr>\n",
       "      <th>Industrial Risk</th>\n",
       "      <td>250</td>\n",
       "      <td>3</td>\n",
       "      <td>N</td>\n",
       "      <td>89</td>\n",
       "    </tr>\n",
       "    <tr>\n",
       "      <th>Management Risk</th>\n",
       "      <td>250</td>\n",
       "      <td>3</td>\n",
       "      <td>N</td>\n",
       "      <td>119</td>\n",
       "    </tr>\n",
       "    <tr>\n",
       "      <th>Financial Flexibility</th>\n",
       "      <td>250</td>\n",
       "      <td>3</td>\n",
       "      <td>N</td>\n",
       "      <td>119</td>\n",
       "    </tr>\n",
       "    <tr>\n",
       "      <th>Credibility</th>\n",
       "      <td>250</td>\n",
       "      <td>3</td>\n",
       "      <td>N</td>\n",
       "      <td>94</td>\n",
       "    </tr>\n",
       "    <tr>\n",
       "      <th>Competitiveness</th>\n",
       "      <td>250</td>\n",
       "      <td>3</td>\n",
       "      <td>N</td>\n",
       "      <td>103</td>\n",
       "    </tr>\n",
       "    <tr>\n",
       "      <th>Operating Risk</th>\n",
       "      <td>250</td>\n",
       "      <td>3</td>\n",
       "      <td>N</td>\n",
       "      <td>114</td>\n",
       "    </tr>\n",
       "    <tr>\n",
       "      <th>Class</th>\n",
       "      <td>250</td>\n",
       "      <td>2</td>\n",
       "      <td>NB</td>\n",
       "      <td>143</td>\n",
       "    </tr>\n",
       "  </tbody>\n",
       "</table>\n",
       "</div>"
      ],
      "text/plain": [
       "                      count unique top freq\n",
       "Industrial Risk         250      3   N   89\n",
       "Management Risk         250      3   N  119\n",
       "Financial Flexibility   250      3   N  119\n",
       "Credibility             250      3   N   94\n",
       "Competitiveness         250      3   N  103\n",
       "Operating Risk          250      3   N  114\n",
       "Class                   250      2  NB  143"
      ]
     },
     "execution_count": 3,
     "metadata": {},
     "output_type": "execute_result"
    }
   ],
   "source": [
    "# High level statistics analysis \n",
    "QB_df.describe().transpose()"
   ]
  },
  {
   "cell_type": "code",
   "execution_count": 4,
   "metadata": {},
   "outputs": [
    {
     "name": "stdout",
     "output_type": "stream",
     "text": [
      "Industrial Risk\n",
      "['P' 'N' 'A']\n",
      "Management Risk\n",
      "['P' 'N' 'A']\n",
      "Financial Flexibility\n",
      "['A' 'P' 'N']\n",
      "Credibility\n",
      "['A' 'P' 'N']\n",
      "Competitiveness\n",
      "['A' 'P' 'N']\n",
      "Operating Risk\n",
      "['P' 'N' 'A']\n",
      "Class\n",
      "['NB' 'B']\n"
     ]
    }
   ],
   "source": [
    "for col in QB_df:\n",
    "    print (col)\n",
    "    print (QB_df[col].unique())"
   ]
  },
  {
   "cell_type": "code",
   "execution_count": 5,
   "metadata": {},
   "outputs": [
    {
     "data": {
      "text/plain": [
       "(250, 7)"
      ]
     },
     "execution_count": 5,
     "metadata": {},
     "output_type": "execute_result"
    }
   ],
   "source": [
    "QB_df.shape"
   ]
  },
  {
   "cell_type": "code",
   "execution_count": 6,
   "metadata": {},
   "outputs": [
    {
     "name": "stdout",
     "output_type": "stream",
     "text": [
      "<class 'pandas.core.frame.DataFrame'>\n",
      "RangeIndex: 250 entries, 0 to 249\n",
      "Data columns (total 7 columns):\n",
      "Industrial Risk          250 non-null object\n",
      "Management Risk          250 non-null object\n",
      "Financial Flexibility    250 non-null object\n",
      "Credibility              250 non-null object\n",
      "Competitiveness          250 non-null object\n",
      "Operating Risk           250 non-null object\n",
      "Class                    250 non-null object\n",
      "dtypes: object(7)\n",
      "memory usage: 13.8+ KB\n"
     ]
    }
   ],
   "source": [
    "QB_df.info()"
   ]
  },
  {
   "cell_type": "code",
   "execution_count": 7,
   "metadata": {},
   "outputs": [
    {
     "data": {
      "text/plain": [
       "Industrial Risk          object\n",
       "Management Risk          object\n",
       "Financial Flexibility    object\n",
       "Credibility              object\n",
       "Competitiveness          object\n",
       "Operating Risk           object\n",
       "Class                    object\n",
       "dtype: object"
      ]
     },
     "execution_count": 7,
     "metadata": {},
     "output_type": "execute_result"
    }
   ],
   "source": [
    "QB_df.dtypes"
   ]
  },
  {
   "cell_type": "code",
   "execution_count": 8,
   "metadata": {},
   "outputs": [
    {
     "data": {
      "text/plain": [
       "Industrial Risk          0\n",
       "Management Risk          0\n",
       "Financial Flexibility    0\n",
       "Credibility              0\n",
       "Competitiveness          0\n",
       "Operating Risk           0\n",
       "Class                    0\n",
       "dtype: int64"
      ]
     },
     "execution_count": 8,
     "metadata": {},
     "output_type": "execute_result"
    }
   ],
   "source": [
    "# To check for any missing data\n",
    "QB_df.isnull().sum()"
   ]
  },
  {
   "cell_type": "code",
   "execution_count": 9,
   "metadata": {},
   "outputs": [
    {
     "data": {
      "text/plain": [
       "Industrial Risk          0\n",
       "Management Risk          0\n",
       "Financial Flexibility    0\n",
       "Credibility              0\n",
       "Competitiveness          0\n",
       "Operating Risk           0\n",
       "Class                    0\n",
       "dtype: int64"
      ]
     },
     "execution_count": 9,
     "metadata": {},
     "output_type": "execute_result"
    }
   ],
   "source": [
    "# To check for any missing data\n",
    "QB_df.isna().sum()"
   ]
  },
  {
   "cell_type": "code",
   "execution_count": 10,
   "metadata": {},
   "outputs": [
    {
     "data": {
      "text/html": [
       "<div>\n",
       "<style scoped>\n",
       "    .dataframe tbody tr th:only-of-type {\n",
       "        vertical-align: middle;\n",
       "    }\n",
       "\n",
       "    .dataframe tbody tr th {\n",
       "        vertical-align: top;\n",
       "    }\n",
       "\n",
       "    .dataframe thead th {\n",
       "        text-align: right;\n",
       "    }\n",
       "</style>\n",
       "<table border=\"1\" class=\"dataframe\">\n",
       "  <thead>\n",
       "    <tr style=\"text-align: right;\">\n",
       "      <th></th>\n",
       "      <th>Industrial Risk</th>\n",
       "      <th>Management Risk</th>\n",
       "      <th>Financial Flexibility</th>\n",
       "      <th>Credibility</th>\n",
       "      <th>Competitiveness</th>\n",
       "      <th>Operating Risk</th>\n",
       "      <th>Class</th>\n",
       "    </tr>\n",
       "  </thead>\n",
       "  <tbody>\n",
       "    <tr>\n",
       "      <th>0</th>\n",
       "      <td>P</td>\n",
       "      <td>P</td>\n",
       "      <td>A</td>\n",
       "      <td>A</td>\n",
       "      <td>A</td>\n",
       "      <td>P</td>\n",
       "      <td>NB</td>\n",
       "    </tr>\n",
       "    <tr>\n",
       "      <th>1</th>\n",
       "      <td>N</td>\n",
       "      <td>N</td>\n",
       "      <td>A</td>\n",
       "      <td>A</td>\n",
       "      <td>A</td>\n",
       "      <td>N</td>\n",
       "      <td>NB</td>\n",
       "    </tr>\n",
       "    <tr>\n",
       "      <th>2</th>\n",
       "      <td>A</td>\n",
       "      <td>A</td>\n",
       "      <td>A</td>\n",
       "      <td>A</td>\n",
       "      <td>A</td>\n",
       "      <td>A</td>\n",
       "      <td>NB</td>\n",
       "    </tr>\n",
       "    <tr>\n",
       "      <th>3</th>\n",
       "      <td>P</td>\n",
       "      <td>P</td>\n",
       "      <td>P</td>\n",
       "      <td>P</td>\n",
       "      <td>P</td>\n",
       "      <td>P</td>\n",
       "      <td>NB</td>\n",
       "    </tr>\n",
       "    <tr>\n",
       "      <th>4</th>\n",
       "      <td>N</td>\n",
       "      <td>N</td>\n",
       "      <td>P</td>\n",
       "      <td>P</td>\n",
       "      <td>P</td>\n",
       "      <td>N</td>\n",
       "      <td>NB</td>\n",
       "    </tr>\n",
       "    <tr>\n",
       "      <th>...</th>\n",
       "      <td>...</td>\n",
       "      <td>...</td>\n",
       "      <td>...</td>\n",
       "      <td>...</td>\n",
       "      <td>...</td>\n",
       "      <td>...</td>\n",
       "      <td>...</td>\n",
       "    </tr>\n",
       "    <tr>\n",
       "      <th>245</th>\n",
       "      <td>N</td>\n",
       "      <td>N</td>\n",
       "      <td>A</td>\n",
       "      <td>N</td>\n",
       "      <td>N</td>\n",
       "      <td>N</td>\n",
       "      <td>B</td>\n",
       "    </tr>\n",
       "    <tr>\n",
       "      <th>246</th>\n",
       "      <td>P</td>\n",
       "      <td>N</td>\n",
       "      <td>N</td>\n",
       "      <td>N</td>\n",
       "      <td>N</td>\n",
       "      <td>N</td>\n",
       "      <td>B</td>\n",
       "    </tr>\n",
       "    <tr>\n",
       "      <th>247</th>\n",
       "      <td>A</td>\n",
       "      <td>N</td>\n",
       "      <td>N</td>\n",
       "      <td>N</td>\n",
       "      <td>N</td>\n",
       "      <td>N</td>\n",
       "      <td>B</td>\n",
       "    </tr>\n",
       "    <tr>\n",
       "      <th>248</th>\n",
       "      <td>N</td>\n",
       "      <td>N</td>\n",
       "      <td>N</td>\n",
       "      <td>N</td>\n",
       "      <td>N</td>\n",
       "      <td>N</td>\n",
       "      <td>B</td>\n",
       "    </tr>\n",
       "    <tr>\n",
       "      <th>249</th>\n",
       "      <td>P</td>\n",
       "      <td>N</td>\n",
       "      <td>N</td>\n",
       "      <td>N</td>\n",
       "      <td>A</td>\n",
       "      <td>A</td>\n",
       "      <td>B</td>\n",
       "    </tr>\n",
       "  </tbody>\n",
       "</table>\n",
       "<p>250 rows × 7 columns</p>\n",
       "</div>"
      ],
      "text/plain": [
       "    Industrial Risk Management Risk Financial Flexibility Credibility  \\\n",
       "0                 P               P                     A           A   \n",
       "1                 N               N                     A           A   \n",
       "2                 A               A                     A           A   \n",
       "3                 P               P                     P           P   \n",
       "4                 N               N                     P           P   \n",
       "..              ...             ...                   ...         ...   \n",
       "245               N               N                     A           N   \n",
       "246               P               N                     N           N   \n",
       "247               A               N                     N           N   \n",
       "248               N               N                     N           N   \n",
       "249               P               N                     N           N   \n",
       "\n",
       "    Competitiveness Operating Risk Class  \n",
       "0                 A              P    NB  \n",
       "1                 A              N    NB  \n",
       "2                 A              A    NB  \n",
       "3                 P              P    NB  \n",
       "4                 P              N    NB  \n",
       "..              ...            ...   ...  \n",
       "245               N              N     B  \n",
       "246               N              N     B  \n",
       "247               N              N     B  \n",
       "248               N              N     B  \n",
       "249               A              A     B  \n",
       "\n",
       "[250 rows x 7 columns]"
      ]
     },
     "execution_count": 10,
     "metadata": {},
     "output_type": "execute_result"
    }
   ],
   "source": [
    "# To check if all the data values are real or not\n",
    "QB_df[~QB_df.applymap(np.isreal).all(1)]"
   ]
  },
  {
   "cell_type": "code",
   "execution_count": 11,
   "metadata": {},
   "outputs": [
    {
     "name": "stdout",
     "output_type": "stream",
     "text": [
      "Class Distribution: For Non-Bankruptcy and Bankruptcy values\n",
      " NB    143\n",
      "B     107\n",
      "Name: Class, dtype: int64\n"
     ]
    }
   ],
   "source": [
    "print(\"Class Distribution: For Non-Bankruptcy and Bankruptcy values\\n\",QB_df[\"Class\"].value_counts())"
   ]
  },
  {
   "cell_type": "code",
   "execution_count": 12,
   "metadata": {},
   "outputs": [],
   "source": [
    "# Distribution plots with different columns combinations\n",
    "#sns.FacetGrid(QB_df,hue=\"Class\",height=5).map(sns.distplot,\"Industrial Risk\").add_legend()\n",
    "#plt.show()"
   ]
  },
  {
   "cell_type": "code",
   "execution_count": 13,
   "metadata": {},
   "outputs": [
    {
     "data": {
      "text/html": [
       "<div>\n",
       "<style scoped>\n",
       "    .dataframe tbody tr th:only-of-type {\n",
       "        vertical-align: middle;\n",
       "    }\n",
       "\n",
       "    .dataframe tbody tr th {\n",
       "        vertical-align: top;\n",
       "    }\n",
       "\n",
       "    .dataframe thead th {\n",
       "        text-align: right;\n",
       "    }\n",
       "</style>\n",
       "<table border=\"1\" class=\"dataframe\">\n",
       "  <thead>\n",
       "    <tr style=\"text-align: right;\">\n",
       "      <th></th>\n",
       "      <th>Industrial Risk</th>\n",
       "      <th>Management Risk</th>\n",
       "      <th>Financial Flexibility</th>\n",
       "      <th>Credibility</th>\n",
       "      <th>Competitiveness</th>\n",
       "      <th>Operating Risk</th>\n",
       "    </tr>\n",
       "  </thead>\n",
       "  <tbody>\n",
       "    <tr>\n",
       "      <th>0</th>\n",
       "      <td>P</td>\n",
       "      <td>P</td>\n",
       "      <td>A</td>\n",
       "      <td>A</td>\n",
       "      <td>A</td>\n",
       "      <td>P</td>\n",
       "    </tr>\n",
       "    <tr>\n",
       "      <th>1</th>\n",
       "      <td>N</td>\n",
       "      <td>N</td>\n",
       "      <td>A</td>\n",
       "      <td>A</td>\n",
       "      <td>A</td>\n",
       "      <td>N</td>\n",
       "    </tr>\n",
       "    <tr>\n",
       "      <th>2</th>\n",
       "      <td>A</td>\n",
       "      <td>A</td>\n",
       "      <td>A</td>\n",
       "      <td>A</td>\n",
       "      <td>A</td>\n",
       "      <td>A</td>\n",
       "    </tr>\n",
       "    <tr>\n",
       "      <th>3</th>\n",
       "      <td>P</td>\n",
       "      <td>P</td>\n",
       "      <td>P</td>\n",
       "      <td>P</td>\n",
       "      <td>P</td>\n",
       "      <td>P</td>\n",
       "    </tr>\n",
       "    <tr>\n",
       "      <th>4</th>\n",
       "      <td>N</td>\n",
       "      <td>N</td>\n",
       "      <td>P</td>\n",
       "      <td>P</td>\n",
       "      <td>P</td>\n",
       "      <td>N</td>\n",
       "    </tr>\n",
       "  </tbody>\n",
       "</table>\n",
       "</div>"
      ],
      "text/plain": [
       "  Industrial Risk Management Risk Financial Flexibility Credibility  \\\n",
       "0               P               P                     A           A   \n",
       "1               N               N                     A           A   \n",
       "2               A               A                     A           A   \n",
       "3               P               P                     P           P   \n",
       "4               N               N                     P           P   \n",
       "\n",
       "  Competitiveness Operating Risk  \n",
       "0               A              P  \n",
       "1               A              N  \n",
       "2               A              A  \n",
       "3               P              P  \n",
       "4               P              N  "
      ]
     },
     "execution_count": 13,
     "metadata": {},
     "output_type": "execute_result"
    }
   ],
   "source": [
    "# Encode the features\n",
    "LE = LabelEncoder()\n",
    "QBE_df=QB_df.drop('Class', axis=1)\n",
    "QBE_df.head()"
   ]
  },
  {
   "cell_type": "code",
   "execution_count": 14,
   "metadata": {},
   "outputs": [
    {
     "data": {
      "text/html": [
       "<div>\n",
       "<style scoped>\n",
       "    .dataframe tbody tr th:only-of-type {\n",
       "        vertical-align: middle;\n",
       "    }\n",
       "\n",
       "    .dataframe tbody tr th {\n",
       "        vertical-align: top;\n",
       "    }\n",
       "\n",
       "    .dataframe thead th {\n",
       "        text-align: right;\n",
       "    }\n",
       "</style>\n",
       "<table border=\"1\" class=\"dataframe\">\n",
       "  <thead>\n",
       "    <tr style=\"text-align: right;\">\n",
       "      <th></th>\n",
       "      <th>Industrial Risk</th>\n",
       "      <th>Management Risk</th>\n",
       "      <th>Financial Flexibility</th>\n",
       "      <th>Credibility</th>\n",
       "      <th>Competitiveness</th>\n",
       "      <th>Operating Risk</th>\n",
       "    </tr>\n",
       "  </thead>\n",
       "  <tbody>\n",
       "    <tr>\n",
       "      <th>0</th>\n",
       "      <td>2</td>\n",
       "      <td>2</td>\n",
       "      <td>0</td>\n",
       "      <td>0</td>\n",
       "      <td>0</td>\n",
       "      <td>2</td>\n",
       "    </tr>\n",
       "    <tr>\n",
       "      <th>1</th>\n",
       "      <td>1</td>\n",
       "      <td>1</td>\n",
       "      <td>0</td>\n",
       "      <td>0</td>\n",
       "      <td>0</td>\n",
       "      <td>1</td>\n",
       "    </tr>\n",
       "    <tr>\n",
       "      <th>2</th>\n",
       "      <td>0</td>\n",
       "      <td>0</td>\n",
       "      <td>0</td>\n",
       "      <td>0</td>\n",
       "      <td>0</td>\n",
       "      <td>0</td>\n",
       "    </tr>\n",
       "    <tr>\n",
       "      <th>3</th>\n",
       "      <td>2</td>\n",
       "      <td>2</td>\n",
       "      <td>2</td>\n",
       "      <td>2</td>\n",
       "      <td>2</td>\n",
       "      <td>2</td>\n",
       "    </tr>\n",
       "    <tr>\n",
       "      <th>4</th>\n",
       "      <td>1</td>\n",
       "      <td>1</td>\n",
       "      <td>2</td>\n",
       "      <td>2</td>\n",
       "      <td>2</td>\n",
       "      <td>1</td>\n",
       "    </tr>\n",
       "  </tbody>\n",
       "</table>\n",
       "</div>"
      ],
      "text/plain": [
       "   Industrial Risk  Management Risk  Financial Flexibility  Credibility  \\\n",
       "0                2                2                      0            0   \n",
       "1                1                1                      0            0   \n",
       "2                0                0                      0            0   \n",
       "3                2                2                      2            2   \n",
       "4                1                1                      2            2   \n",
       "\n",
       "   Competitiveness  Operating Risk  \n",
       "0                0               2  \n",
       "1                0               1  \n",
       "2                0               0  \n",
       "3                2               2  \n",
       "4                2               1  "
      ]
     },
     "execution_count": 14,
     "metadata": {},
     "output_type": "execute_result"
    }
   ],
   "source": [
    "#QBE_df.apply(LE)\n",
    "QBE_df[\"Industrial Risk\"]= LE.fit_transform(QBE_df[\"Industrial Risk\"])\n",
    "QBE_df[\"Management Risk\"]=LE.fit_transform(QBE_df[\"Management Risk\"])\n",
    "QBE_df[\"Financial Flexibility\"]=LE.fit_transform(QBE_df[\"Financial Flexibility\"])\n",
    "QBE_df[\"Credibility\"]=LE.fit_transform(QBE_df[\"Credibility\"])\n",
    "QBE_df[\"Competitiveness\"]=LE.fit_transform(QBE_df[\"Competitiveness\"])\n",
    "QBE_df[\"Operating Risk\"]=LE.fit_transform(QBE_df[\"Operating Risk\"])\n",
    "QBE_df.head()"
   ]
  },
  {
   "cell_type": "code",
   "execution_count": 15,
   "metadata": {},
   "outputs": [
    {
     "data": {
      "text/html": [
       "<div>\n",
       "<style scoped>\n",
       "    .dataframe tbody tr th:only-of-type {\n",
       "        vertical-align: middle;\n",
       "    }\n",
       "\n",
       "    .dataframe tbody tr th {\n",
       "        vertical-align: top;\n",
       "    }\n",
       "\n",
       "    .dataframe thead th {\n",
       "        text-align: right;\n",
       "    }\n",
       "</style>\n",
       "<table border=\"1\" class=\"dataframe\">\n",
       "  <thead>\n",
       "    <tr style=\"text-align: right;\">\n",
       "      <th></th>\n",
       "      <th>count</th>\n",
       "      <th>mean</th>\n",
       "      <th>std</th>\n",
       "      <th>min</th>\n",
       "      <th>25%</th>\n",
       "      <th>50%</th>\n",
       "      <th>75%</th>\n",
       "      <th>max</th>\n",
       "    </tr>\n",
       "  </thead>\n",
       "  <tbody>\n",
       "    <tr>\n",
       "      <th>Industrial Risk</th>\n",
       "      <td>250.0</td>\n",
       "      <td>0.996</td>\n",
       "      <td>0.804096</td>\n",
       "      <td>0.0</td>\n",
       "      <td>0.0</td>\n",
       "      <td>1.0</td>\n",
       "      <td>2.0</td>\n",
       "      <td>2.0</td>\n",
       "    </tr>\n",
       "    <tr>\n",
       "      <th>Management Risk</th>\n",
       "      <td>250.0</td>\n",
       "      <td>0.972</td>\n",
       "      <td>0.724788</td>\n",
       "      <td>0.0</td>\n",
       "      <td>0.0</td>\n",
       "      <td>1.0</td>\n",
       "      <td>1.0</td>\n",
       "      <td>2.0</td>\n",
       "    </tr>\n",
       "    <tr>\n",
       "      <th>Financial Flexibility</th>\n",
       "      <td>250.0</td>\n",
       "      <td>0.932</td>\n",
       "      <td>0.722123</td>\n",
       "      <td>0.0</td>\n",
       "      <td>0.0</td>\n",
       "      <td>1.0</td>\n",
       "      <td>1.0</td>\n",
       "      <td>2.0</td>\n",
       "    </tr>\n",
       "    <tr>\n",
       "      <th>Credibility</th>\n",
       "      <td>250.0</td>\n",
       "      <td>1.008</td>\n",
       "      <td>0.791481</td>\n",
       "      <td>0.0</td>\n",
       "      <td>0.0</td>\n",
       "      <td>1.0</td>\n",
       "      <td>2.0</td>\n",
       "      <td>2.0</td>\n",
       "    </tr>\n",
       "    <tr>\n",
       "      <th>Competitiveness</th>\n",
       "      <td>250.0</td>\n",
       "      <td>1.140</td>\n",
       "      <td>0.755435</td>\n",
       "      <td>0.0</td>\n",
       "      <td>1.0</td>\n",
       "      <td>1.0</td>\n",
       "      <td>2.0</td>\n",
       "      <td>2.0</td>\n",
       "    </tr>\n",
       "    <tr>\n",
       "      <th>Operating Risk</th>\n",
       "      <td>250.0</td>\n",
       "      <td>1.088</td>\n",
       "      <td>0.733764</td>\n",
       "      <td>0.0</td>\n",
       "      <td>1.0</td>\n",
       "      <td>1.0</td>\n",
       "      <td>2.0</td>\n",
       "      <td>2.0</td>\n",
       "    </tr>\n",
       "  </tbody>\n",
       "</table>\n",
       "</div>"
      ],
      "text/plain": [
       "                       count   mean       std  min  25%  50%  75%  max\n",
       "Industrial Risk        250.0  0.996  0.804096  0.0  0.0  1.0  2.0  2.0\n",
       "Management Risk        250.0  0.972  0.724788  0.0  0.0  1.0  1.0  2.0\n",
       "Financial Flexibility  250.0  0.932  0.722123  0.0  0.0  1.0  1.0  2.0\n",
       "Credibility            250.0  1.008  0.791481  0.0  0.0  1.0  2.0  2.0\n",
       "Competitiveness        250.0  1.140  0.755435  0.0  1.0  1.0  2.0  2.0\n",
       "Operating Risk         250.0  1.088  0.733764  0.0  1.0  1.0  2.0  2.0"
      ]
     },
     "execution_count": 15,
     "metadata": {},
     "output_type": "execute_result"
    }
   ],
   "source": [
    "QBE_df.describe().transpose()"
   ]
  },
  {
   "cell_type": "code",
   "execution_count": 16,
   "metadata": {},
   "outputs": [
    {
     "data": {
      "text/html": [
       "<div>\n",
       "<style scoped>\n",
       "    .dataframe tbody tr th:only-of-type {\n",
       "        vertical-align: middle;\n",
       "    }\n",
       "\n",
       "    .dataframe tbody tr th {\n",
       "        vertical-align: top;\n",
       "    }\n",
       "\n",
       "    .dataframe thead th {\n",
       "        text-align: right;\n",
       "    }\n",
       "</style>\n",
       "<table border=\"1\" class=\"dataframe\">\n",
       "  <thead>\n",
       "    <tr style=\"text-align: right;\">\n",
       "      <th></th>\n",
       "      <th>Industrial Risk</th>\n",
       "      <th>Management Risk</th>\n",
       "      <th>Financial Flexibility</th>\n",
       "      <th>Credibility</th>\n",
       "      <th>Competitiveness</th>\n",
       "      <th>Operating Risk</th>\n",
       "    </tr>\n",
       "  </thead>\n",
       "  <tbody>\n",
       "    <tr>\n",
       "      <th>Industrial Risk</th>\n",
       "      <td>1.000000</td>\n",
       "      <td>0.110063</td>\n",
       "      <td>0.068694</td>\n",
       "      <td>-0.050432</td>\n",
       "      <td>0.060428</td>\n",
       "      <td>0.177573</td>\n",
       "    </tr>\n",
       "    <tr>\n",
       "      <th>Management Risk</th>\n",
       "      <td>0.110063</td>\n",
       "      <td>1.000000</td>\n",
       "      <td>-0.018999</td>\n",
       "      <td>-0.006609</td>\n",
       "      <td>-0.132174</td>\n",
       "      <td>0.253851</td>\n",
       "    </tr>\n",
       "    <tr>\n",
       "      <th>Financial Flexibility</th>\n",
       "      <td>0.068694</td>\n",
       "      <td>-0.018999</td>\n",
       "      <td>1.000000</td>\n",
       "      <td>-0.020124</td>\n",
       "      <td>0.150036</td>\n",
       "      <td>-0.064455</td>\n",
       "    </tr>\n",
       "    <tr>\n",
       "      <th>Credibility</th>\n",
       "      <td>-0.050432</td>\n",
       "      <td>-0.006609</td>\n",
       "      <td>-0.020124</td>\n",
       "      <td>1.000000</td>\n",
       "      <td>0.092155</td>\n",
       "      <td>0.054104</td>\n",
       "    </tr>\n",
       "    <tr>\n",
       "      <th>Competitiveness</th>\n",
       "      <td>0.060428</td>\n",
       "      <td>-0.132174</td>\n",
       "      <td>0.150036</td>\n",
       "      <td>0.092155</td>\n",
       "      <td>1.000000</td>\n",
       "      <td>-0.073031</td>\n",
       "    </tr>\n",
       "    <tr>\n",
       "      <th>Operating Risk</th>\n",
       "      <td>0.177573</td>\n",
       "      <td>0.253851</td>\n",
       "      <td>-0.064455</td>\n",
       "      <td>0.054104</td>\n",
       "      <td>-0.073031</td>\n",
       "      <td>1.000000</td>\n",
       "    </tr>\n",
       "  </tbody>\n",
       "</table>\n",
       "</div>"
      ],
      "text/plain": [
       "                       Industrial Risk  Management Risk  \\\n",
       "Industrial Risk               1.000000         0.110063   \n",
       "Management Risk               0.110063         1.000000   \n",
       "Financial Flexibility         0.068694        -0.018999   \n",
       "Credibility                  -0.050432        -0.006609   \n",
       "Competitiveness               0.060428        -0.132174   \n",
       "Operating Risk                0.177573         0.253851   \n",
       "\n",
       "                       Financial Flexibility  Credibility  Competitiveness  \\\n",
       "Industrial Risk                     0.068694    -0.050432         0.060428   \n",
       "Management Risk                    -0.018999    -0.006609        -0.132174   \n",
       "Financial Flexibility               1.000000    -0.020124         0.150036   \n",
       "Credibility                        -0.020124     1.000000         0.092155   \n",
       "Competitiveness                     0.150036     0.092155         1.000000   \n",
       "Operating Risk                     -0.064455     0.054104        -0.073031   \n",
       "\n",
       "                       Operating Risk  \n",
       "Industrial Risk              0.177573  \n",
       "Management Risk              0.253851  \n",
       "Financial Flexibility       -0.064455  \n",
       "Credibility                  0.054104  \n",
       "Competitiveness             -0.073031  \n",
       "Operating Risk               1.000000  "
      ]
     },
     "execution_count": 16,
     "metadata": {},
     "output_type": "execute_result"
    }
   ],
   "source": [
    "QBE_df.corr()"
   ]
  },
  {
   "cell_type": "markdown",
   "metadata": {},
   "source": [
    "Inference - Correlation between different variables are between -0.5 to 0.5, Conclusion - all variables should be considered for the development of the prediction model."
   ]
  },
  {
   "cell_type": "code",
   "execution_count": 17,
   "metadata": {},
   "outputs": [
    {
     "data": {
      "image/png": "[encoded data removed]",
      "text/plain": [
       "<Figure size 936x504 with 2 Axes>"
      ]
     },
     "metadata": {
      "needs_background": "light"
     },
     "output_type": "display_data"
    }
   ],
   "source": [
    "#Graphical representation of correlations between features\n",
    "sns.set_context(\"notebook\", font_scale=1.0, rc={\"lines.linewidth\": 2.5})\n",
    "plt.figure(figsize=(13,7))\n",
    "mask = np.zeros_like(QBE_df.corr())\n",
    "mask[np.triu_indices_from(mask, 1)] = True\n",
    "a = sns.heatmap(QBE_df.corr(),mask=mask, annot=True, fmt='.2f')\n",
    "rotx = a.set_xticklabels(a.get_xticklabels(), rotation=60)\n",
    "roty = a.set_yticklabels(a.get_yticklabels(), rotation=30)"
   ]
  },
  {
   "cell_type": "code",
   "execution_count": 18,
   "metadata": {},
   "outputs": [
    {
     "data": {
      "image/png": "[encoded data removed]",
      "text/plain": [
       "<Figure size 1080x1080 with 42 Axes>"
      ]
     },
     "metadata": {
      "needs_background": "light"
     },
     "output_type": "display_data"
    }
   ],
   "source": [
    "sns.pairplot(QBE_df,diag_kind='kde')\n",
    "plt.show()"
   ]
  },
  {
   "cell_type": "code",
   "execution_count": 19,
   "metadata": {},
   "outputs": [
    {
     "data": {
      "text/plain": [
       "array([[0., 0., 1., ..., 0., 0., 1.],\n",
       "       [0., 1., 0., ..., 0., 1., 0.],\n",
       "       [1., 0., 0., ..., 1., 0., 0.],\n",
       "       ...,\n",
       "       [1., 0., 0., ..., 0., 1., 0.],\n",
       "       [0., 1., 0., ..., 0., 1., 0.],\n",
       "       [0., 0., 1., ..., 1., 0., 0.]])"
      ]
     },
     "execution_count": 19,
     "metadata": {},
     "output_type": "execute_result"
    }
   ],
   "source": [
    "OHE = OneHotEncoder(categories='auto')\n",
    "features = OHE.fit_transform(QBE_df).toarray()\n",
    "labels = QB_df[\"Class\"]\n",
    "LE = LabelEncoder()\n",
    "labels = LE.fit_transform(labels)\n",
    "features"
   ]
  },
  {
   "cell_type": "code",
   "execution_count": 20,
   "metadata": {},
   "outputs": [
    {
     "data": {
      "text/plain": [
       "(250, 18)"
      ]
     },
     "execution_count": 20,
     "metadata": {},
     "output_type": "execute_result"
    }
   ],
   "source": [
    "features.shape"
   ]
  },
  {
   "cell_type": "code",
   "execution_count": 21,
   "metadata": {},
   "outputs": [
    {
     "name": "stdout",
     "output_type": "stream",
     "text": [
      "Class Distribution for Bankruptcy and Non-Bankruptcy values\n",
      " {0: 107, 1: 143}\n",
      "[1 1 1 1 1 1 1 1 1 1 1 1 1 1 1 1 1 1 1 1 1 1 1 1 1 1 1 1 1 1 1 1 1 1 1 1 1\n",
      " 1 1 1 1 1 1 1 1 1 1 1 1 1 1 1 1 1 1 1 1 1 1 1 1 1 1 1 1 1 1 1 1 1 1 1 1 1\n",
      " 1 1 1 1 1 1 1 1 1 1 1 1 1 1 1 1 1 1 1 1 1 1 1 1 1 1 1 1 1 1 1 1 1 1 1 1 1\n",
      " 1 1 1 1 1 1 1 1 1 1 1 1 1 1 1 1 1 1 1 1 1 1 1 1 1 1 1 1 1 1 1 1 0 0 0 0 0\n",
      " 0 0 0 0 0 0 0 0 0 0 0 0 0 0 0 0 0 0 0 0 0 0 0 0 0 0 0 0 0 0 0 0 0 0 0 0 0\n",
      " 0 0 0 0 0 0 0 0 0 0 0 0 0 0 0 0 0 0 0 0 0 0 0 0 0 0 0 0 0 0 0 0 0 0 0 0 0\n",
      " 0 0 0 0 0 0 0 0 0 0 0 0 0 0 0 0 0 0 0 0 0 0 0 0 0 0 0 0] \n",
      " [1 1 1 1 1 1 1 1 1 1 1 1 1 1 1 1 1 1 1 1 1 1 1 1 1 1 1 1 1 1 1 1 1 1 1 1 1\n",
      " 1 1 1 1 1 1 1 1 1 1 1 1 1 1 1 1 1 1 1 1 1 1 1 1 1 1 1 1 1 1 1 1 1 1 1 1 1\n",
      " 1 1 1 1 1 1 1 1 1 1 1 1 1 1 1 1 1 1 1 1 1 1 1 1 1 1 1 1 1 1 1 1 1 1 1 1 1\n",
      " 1 1 1 1 1 1 1 1 1 1 1 1 1 1 1 1 1 1 1 1 1 1 1 1 1 1 1 1 1 1 1 1 0 0 0 0 0\n",
      " 0 0 0 0 0 0 0 0 0 0 0 0 0 0 0 0 0 0 0 0 0 0 0 0 0 0 0 0 0 0 0 0 0 0 0 0 0\n",
      " 0 0 0 0 0 0 0 0 0 0 0 0 0 0 0 0 0 0 0 0 0 0 0 0 0 0 0 0 0 0 0 0 0 0 0 0 0\n",
      " 0 0 0 0 0 0 0 0 0 0 0 0 0 0 0 0 0 0 0 0 0 0 0 0 0 0 0 0]\n"
     ]
    }
   ],
   "source": [
    "unique, counts = np.unique(labels, return_counts=True)\n",
    "print(\"Class Distribution for Bankruptcy and Non-Bankruptcy values\\n\",dict(zip(unique, counts)))\n",
    "new_labels = labels\n",
    "print(labels,'\\n', new_labels)"
   ]
  },
  {
   "cell_type": "code",
   "execution_count": 22,
   "metadata": {},
   "outputs": [],
   "source": [
    "#labels = OHE.fit_transform(labels)\n",
    "#labels"
   ]
  },
  {
   "cell_type": "code",
   "execution_count": 23,
   "metadata": {},
   "outputs": [
    {
     "data": {
      "text/plain": [
       "(250,)"
      ]
     },
     "execution_count": 23,
     "metadata": {},
     "output_type": "execute_result"
    }
   ],
   "source": [
    "labels.shape"
   ]
  },
  {
   "cell_type": "code",
   "execution_count": 24,
   "metadata": {},
   "outputs": [
    {
     "name": "stdout",
     "output_type": "stream",
     "text": [
      "X_train shape -- > (200, 18)\n",
      "Y_train shape -- > (200,)\n",
      "X_test shape -- > (50, 18)\n",
      "Y_test shape -- > (50,)\n"
     ]
    }
   ],
   "source": [
    "# Create Train Test Data\n",
    "X_train,X_test,Y_train,Y_test=train_test_split(features, labels, test_size=0.2, random_state=9)\n",
    "print(\"X_train shape -- > {}\".format(X_train.shape))\n",
    "print(\"Y_train shape -- > {}\".format(Y_train.shape))\n",
    "print(\"X_test shape -- > {}\".format(X_test.shape))\n",
    "print(\"Y_test shape -- > {}\".format(Y_test.shape))"
   ]
  },
  {
   "cell_type": "code",
   "execution_count": 25,
   "metadata": {},
   "outputs": [
    {
     "name": "stdout",
     "output_type": "stream",
     "text": [
      "Variance Values \n",
      " [2.78908132e-01 1.21293162e-01 1.02686484e-01 8.91214863e-02\n",
      " 7.94909755e-02 7.31844563e-02 6.61240334e-02 5.74366541e-02\n",
      " 4.93071013e-02 4.38010415e-02 2.51524704e-02 1.34940025e-02\n",
      " 7.24190878e-33 3.83305002e-33 2.54229236e-33 2.17291763e-33\n",
      " 8.20227356e-34 3.30083823e-34] \n",
      "\n",
      "Cummulative Variance Values \n",
      " [0.27890813 0.40020129 0.50288778 0.59200926 0.67150024 0.7446847\n",
      " 0.81080873 0.86824538 0.91755249 0.96135353 0.986506   1.\n",
      " 1.         1.         1.         1.         1.         1.        ]\n"
     ]
    }
   ],
   "source": [
    "# Apply PCA on the independent features of train data\n",
    "pca = PCA(n_components =  None)\n",
    "pca.fit(X_train)\n",
    "var_explained = pca.explained_variance_ratio_\n",
    "cum_var_exp = np.cumsum(var_explained)\n",
    "print(\"Variance Values \\n\" , var_explained , '\\n')\n",
    "print(\"Cummulative Variance Values \\n\" , cum_var_exp)"
   ]
  },
  {
   "cell_type": "code",
   "execution_count": 26,
   "metadata": {},
   "outputs": [
    {
     "data": {
      "image/png": "[encoded data removed]",
      "text/plain": [
       "<Figure size 432x288 with 1 Axes>"
      ]
     },
     "metadata": {
      "needs_background": "light"
     },
     "output_type": "display_data"
    }
   ],
   "source": [
    "#Plotting the Cumulative Summation of the Explained Variance\n",
    "plt.figure()\n",
    "plt.plot(cum_var_exp)\n",
    "plt.xlabel('Number of Components')\n",
    "plt.ylabel('Variance (%)') #for each component\n",
    "plt.title('Explained Variance')\n",
    "plt.show()"
   ]
  },
  {
   "cell_type": "markdown",
   "metadata": {},
   "source": [
    "Note : This clearly shows the first 10 PCA components cover more than 95% of the variance , and that would be the value"
   ]
  },
  {
   "cell_type": "code",
   "execution_count": 27,
   "metadata": {},
   "outputs": [
    {
     "data": {
      "image/png": "[encoded data removed]",
      "text/plain": [
       "<Figure size 432x288 with 1 Axes>"
      ]
     },
     "metadata": {
      "needs_background": "light"
     },
     "output_type": "display_data"
    }
   ],
   "source": [
    "plt.bar(range(1,19), var_explained, alpha=0.5, align='center', label='individual explained variance')\n",
    "plt.step(range(1,19), cum_var_exp, where= 'mid', label='cumulative explained variance')\n",
    "plt.ylabel('Explained variance ratio')\n",
    "plt.xlabel('Principal components')\n",
    "plt.legend(loc = 'best')\n",
    "plt.show()"
   ]
  },
  {
   "cell_type": "markdown",
   "metadata": {},
   "source": [
    "Note : This clearly shows the first 10 PCA components cover more than 95% of the variance , and that would be the value"
   ]
  },
  {
   "cell_type": "code",
   "execution_count": 28,
   "metadata": {},
   "outputs": [
    {
     "data": {
      "text/plain": [
       "array([0.27890813, 0.12129316, 0.10268648, 0.08912149, 0.07949098,\n",
       "       0.07318446, 0.06612403, 0.05743665, 0.0493071 , 0.04380104])"
      ]
     },
     "execution_count": 28,
     "metadata": {},
     "output_type": "execute_result"
    }
   ],
   "source": [
    "pca = PCA(n_components = 10)\n",
    "X_train = pca.fit_transform(X_train)\n",
    "X_test = pca.transform(X_test)\n",
    "explained_variance = pca.explained_variance_ratio_\n",
    "explained_variance"
   ]
  },
  {
   "cell_type": "code",
   "execution_count": 29,
   "metadata": {},
   "outputs": [
    {
     "name": "stdout",
     "output_type": "stream",
     "text": [
      "Logistic Regression classifier, got 100.0% accuracy on the test set.\n"
     ]
    },
    {
     "data": {
      "text/html": [
       "<div>\n",
       "<style scoped>\n",
       "    .dataframe tbody tr th:only-of-type {\n",
       "        vertical-align: middle;\n",
       "    }\n",
       "\n",
       "    .dataframe tbody tr th {\n",
       "        vertical-align: top;\n",
       "    }\n",
       "\n",
       "    .dataframe thead th {\n",
       "        text-align: right;\n",
       "    }\n",
       "</style>\n",
       "<table border=\"1\" class=\"dataframe\">\n",
       "  <thead>\n",
       "    <tr style=\"text-align: right;\">\n",
       "      <th></th>\n",
       "      <th>Predicted Non-Bankrupt</th>\n",
       "      <th>Predicted Bankrupt</th>\n",
       "    </tr>\n",
       "  </thead>\n",
       "  <tbody>\n",
       "    <tr>\n",
       "      <th>True Non-Bankrupt</th>\n",
       "      <td>18</td>\n",
       "      <td>0</td>\n",
       "    </tr>\n",
       "    <tr>\n",
       "      <th>True Bankrupt</th>\n",
       "      <td>0</td>\n",
       "      <td>32</td>\n",
       "    </tr>\n",
       "  </tbody>\n",
       "</table>\n",
       "</div>"
      ],
      "text/plain": [
       "                   Predicted Non-Bankrupt  Predicted Bankrupt\n",
       "True Non-Bankrupt                      18                   0\n",
       "True Bankrupt                           0                  32"
      ]
     },
     "execution_count": 29,
     "metadata": {},
     "output_type": "execute_result"
    }
   ],
   "source": [
    "#Fitting Logistic Regression to the Training set\n",
    "classifier = LogisticRegression(solver='lbfgs')\n",
    "classifier.fit(X_train, Y_train)\n",
    "#Predicting the Test set results\n",
    "Y_pred = classifier.predict(X_test)\n",
    "print(\"Logistic Regression classifier, got {}% accuracy on the test set.\".format(accuracy_score(Y_test, Y_pred)*100))\n",
    "pd.DataFrame(\n",
    "    confusion_matrix(Y_test, Y_pred),\n",
    "    columns=['Predicted Non-Bankrupt', 'Predicted Bankrupt'],\n",
    "    index=['True Non-Bankrupt', 'True Bankrupt']\n",
    ")"
   ]
  },
  {
   "cell_type": "code",
   "execution_count": 30,
   "metadata": {},
   "outputs": [
    {
     "data": {
      "text/plain": [
       "array([[-1.21429681, -0.30905586, -0.36415638, ..., -0.10815636,\n",
       "         0.01709026,  0.3463237 ],\n",
       "       [-0.15037526, -1.34723634, -0.5319487 , ...,  0.03340136,\n",
       "         0.27988866, -0.18495616],\n",
       "       [-0.93987198,  0.83208713, -0.69562644, ...,  0.11193231,\n",
       "         0.40861255,  0.20143754],\n",
       "       ...,\n",
       "       [ 1.35996565,  0.39199994,  0.05760053, ...,  0.46918259,\n",
       "        -0.57338904, -0.52207653],\n",
       "       [ 1.61247086, -0.50248683,  0.00217625, ..., -0.09839023,\n",
       "         0.10351508, -0.06709237],\n",
       "       [ 0.5626136 ,  0.21474643, -0.24570969, ...,  0.92080142,\n",
       "        -0.01450442,  0.62472739]])"
      ]
     },
     "execution_count": 30,
     "metadata": {},
     "output_type": "execute_result"
    }
   ],
   "source": [
    "# Transform the data using PCA by selecting optimum number of PCs\n",
    "pca = PCA(n_components = 10)\n",
    "pcaData = pca.fit_transform(features)\n",
    "pcaData"
   ]
  },
  {
   "cell_type": "code",
   "execution_count": 31,
   "metadata": {},
   "outputs": [
    {
     "data": {
      "image/png": "[encoded data removed]",
      "text/plain": [
       "<Figure size 864x432 with 1 Axes>"
      ]
     },
     "metadata": {
      "needs_background": "light"
     },
     "output_type": "display_data"
    }
   ],
   "source": [
    "# Finding optimal no. of clusters\n",
    "from scipy.spatial.distance import cdist\n",
    "from sklearn.cluster import KMeans\n",
    "\n",
    "clusters=range(1,10)\n",
    "meanDistortions=[]\n",
    "\n",
    "for k in clusters:\n",
    "    model=KMeans(n_clusters=k)\n",
    "    model.fit(pcaData)\n",
    "    prediction=model.predict(pcaData)\n",
    "    meanDistortions.append(sum(np.min(cdist(pcaData, model.cluster_centers_, 'euclidean'), axis=1)) / pcaData.shape[0])\n",
    "\n",
    "# Elbow method\n",
    "plt.figure(figsize=(12,6))\n",
    "plt.plot(clusters, meanDistortions, 'bx-')\n",
    "plt.xlabel('k')\n",
    "plt.ylabel('Average distortion')\n",
    "plt.title('Selecting k with the Elbow Method')\n",
    "plt.show()"
   ]
  },
  {
   "cell_type": "markdown",
   "metadata": {},
   "source": [
    "Note : This clearly shows the Elbow bend occuring at value 2, which is the K value"
   ]
  },
  {
   "cell_type": "code",
   "execution_count": 32,
   "metadata": {},
   "outputs": [
    {
     "name": "stdout",
     "output_type": "stream",
     "text": [
      "   num_clusters  cluster_errors\n",
      "0             1      742.318739\n",
      "1             2      549.603305\n",
      "2             3      492.182831\n",
      "3             4      449.697082\n",
      "4             5      412.149913\n",
      "5             6      382.502910\n",
      "6             7      358.439482\n",
      "7             8      337.640991\n",
      "8             9      323.338933\n"
     ]
    },
    {
     "data": {
      "image/png": "[encoded data removed]",
      "text/plain": [
       "<Figure size 864x432 with 1 Axes>"
      ]
     },
     "metadata": {
      "needs_background": "light"
     },
     "output_type": "display_data"
    }
   ],
   "source": [
    "# Let us check optimal number of clusters \n",
    "from sklearn.cluster import KMeans\n",
    "X_std = pca.fit_transform(X_train)\n",
    "cluster_range = range( 1, 10)   \n",
    "cluster_errors = []\n",
    "cluster_sil_scores = []\n",
    "for num_clusters in cluster_range:\n",
    "  clusters = KMeans( num_clusters, n_init = 100,init='k-means++',random_state=0)\n",
    "  clusters.fit(X_std)\n",
    "  labels = clusters.labels_                     # capture the cluster lables\n",
    "  centroids = clusters.cluster_centers_         # capture the centroids\n",
    "  cluster_errors.append( clusters.inertia_ )    # capture the intertia\n",
    "  \n",
    "# Combining the cluster_range and cluster_errors into a dataframe\n",
    "clusters_df = pd.DataFrame( { \"num_clusters\":cluster_range, \"cluster_errors\": cluster_errors} )\n",
    "print(clusters_df[0:100])\n",
    "\n",
    "# Elbow plot\n",
    "plt.figure(figsize=(12,6))\n",
    "plt.plot( clusters_df.num_clusters, clusters_df.cluster_errors, marker = \"o\" )\n",
    "plt.xlabel('k')\n",
    "plt.ylabel('Average distortion')\n",
    "plt.title('Selecting k with the Elbow Method')\n",
    "plt.show()"
   ]
  },
  {
   "cell_type": "markdown",
   "metadata": {},
   "source": [
    "Note : This clearly shows the Elbow bend occuring at value 2, which is the K value"
   ]
  },
  {
   "cell_type": "code",
   "execution_count": 36,
   "metadata": {},
   "outputs": [
    {
     "name": "stdout",
     "output_type": "stream",
     "text": [
      "Class Distribution values\n",
      " {0: 107, 1: 143}\n"
     ]
    },
    {
     "data": {
      "text/plain": [
       "array([1, 1, 1, 1, 1, 1, 1, 1, 1, 1, 1, 1, 1, 1, 1, 1, 1, 1, 1, 1, 1, 1,\n",
       "       1, 1, 1, 1, 1, 1, 1, 1, 1, 1, 1, 1, 1, 1, 1, 1, 1, 1, 1, 1, 1, 1,\n",
       "       1, 1, 1, 1, 1, 1, 1, 1, 1, 1, 1, 1, 1, 1, 1, 1, 1, 1, 1, 1, 1, 1,\n",
       "       1, 1, 1, 1, 1, 1, 1, 1, 1, 1, 1, 1, 1, 1, 1, 1, 1, 1, 1, 0, 1, 1,\n",
       "       1, 1, 1, 1, 1, 1, 1, 1, 1, 1, 1, 1, 1, 1, 1, 1, 1, 1, 1, 1, 1, 1,\n",
       "       1, 1, 1, 1, 1, 1, 1, 1, 1, 1, 1, 1, 1, 1, 1, 1, 1, 1, 1, 1, 1, 1,\n",
       "       1, 1, 1, 1, 1, 1, 1, 1, 1, 1, 1, 0, 0, 0, 0, 0, 0, 0, 0, 0, 0, 0,\n",
       "       0, 0, 0, 0, 0, 0, 0, 0, 0, 0, 0, 0, 0, 0, 0, 0, 0, 0, 0, 0, 0, 0,\n",
       "       0, 0, 0, 0, 0, 0, 0, 0, 0, 0, 0, 0, 0, 0, 0, 0, 0, 0, 0, 0, 0, 0,\n",
       "       0, 0, 0, 0, 0, 0, 0, 0, 0, 0, 0, 0, 0, 0, 0, 0, 0, 1, 0, 0, 0, 0,\n",
       "       0, 0, 0, 0, 0, 0, 0, 0, 0, 0, 0, 0, 0, 0, 0, 0, 0, 0, 0, 0, 0, 0,\n",
       "       0, 0, 0, 0, 0, 0, 0, 0])"
      ]
     },
     "execution_count": 36,
     "metadata": {},
     "output_type": "execute_result"
    }
   ],
   "source": [
    "# Let us first start with K = 2\n",
    "final_model=KMeans(2)\n",
    "final_model.fit(X_std)\n",
    "prediction=final_model.predict(pcaData)\n",
    "unique, counts = np.unique(prediction, return_counts=True)\n",
    "print(\"Class Distribution values\\n\",dict(zip(unique, counts)))\n",
    "prediction"
   ]
  },
  {
   "cell_type": "code",
   "execution_count": 37,
   "metadata": {},
   "outputs": [
    {
     "data": {
      "text/plain": [
       "(250,)"
      ]
     },
     "execution_count": 37,
     "metadata": {},
     "output_type": "execute_result"
    }
   ],
   "source": [
    "prediction.shape"
   ]
  },
  {
   "cell_type": "code",
   "execution_count": 38,
   "metadata": {},
   "outputs": [
    {
     "data": {
      "text/html": [
       "<div>\n",
       "<style scoped>\n",
       "    .dataframe tbody tr th:only-of-type {\n",
       "        vertical-align: middle;\n",
       "    }\n",
       "\n",
       "    .dataframe tbody tr th {\n",
       "        vertical-align: top;\n",
       "    }\n",
       "\n",
       "    .dataframe thead th {\n",
       "        text-align: right;\n",
       "    }\n",
       "</style>\n",
       "<table border=\"1\" class=\"dataframe\">\n",
       "  <thead>\n",
       "    <tr style=\"text-align: right;\">\n",
       "      <th></th>\n",
       "      <th>Industrial Risk</th>\n",
       "      <th>Management Risk</th>\n",
       "      <th>Financial Flexibility</th>\n",
       "      <th>Credibility</th>\n",
       "      <th>Competitiveness</th>\n",
       "      <th>Operating Risk</th>\n",
       "      <th>Class</th>\n",
       "    </tr>\n",
       "  </thead>\n",
       "  <tbody>\n",
       "    <tr>\n",
       "      <th>0</th>\n",
       "      <td>P</td>\n",
       "      <td>P</td>\n",
       "      <td>A</td>\n",
       "      <td>A</td>\n",
       "      <td>A</td>\n",
       "      <td>P</td>\n",
       "      <td>NB</td>\n",
       "    </tr>\n",
       "    <tr>\n",
       "      <th>1</th>\n",
       "      <td>N</td>\n",
       "      <td>N</td>\n",
       "      <td>A</td>\n",
       "      <td>A</td>\n",
       "      <td>A</td>\n",
       "      <td>N</td>\n",
       "      <td>NB</td>\n",
       "    </tr>\n",
       "    <tr>\n",
       "      <th>2</th>\n",
       "      <td>A</td>\n",
       "      <td>A</td>\n",
       "      <td>A</td>\n",
       "      <td>A</td>\n",
       "      <td>A</td>\n",
       "      <td>A</td>\n",
       "      <td>NB</td>\n",
       "    </tr>\n",
       "    <tr>\n",
       "      <th>3</th>\n",
       "      <td>P</td>\n",
       "      <td>P</td>\n",
       "      <td>P</td>\n",
       "      <td>P</td>\n",
       "      <td>P</td>\n",
       "      <td>P</td>\n",
       "      <td>NB</td>\n",
       "    </tr>\n",
       "    <tr>\n",
       "      <th>4</th>\n",
       "      <td>N</td>\n",
       "      <td>N</td>\n",
       "      <td>P</td>\n",
       "      <td>P</td>\n",
       "      <td>P</td>\n",
       "      <td>N</td>\n",
       "      <td>NB</td>\n",
       "    </tr>\n",
       "    <tr>\n",
       "      <th>...</th>\n",
       "      <td>...</td>\n",
       "      <td>...</td>\n",
       "      <td>...</td>\n",
       "      <td>...</td>\n",
       "      <td>...</td>\n",
       "      <td>...</td>\n",
       "      <td>...</td>\n",
       "    </tr>\n",
       "    <tr>\n",
       "      <th>245</th>\n",
       "      <td>N</td>\n",
       "      <td>N</td>\n",
       "      <td>A</td>\n",
       "      <td>N</td>\n",
       "      <td>N</td>\n",
       "      <td>N</td>\n",
       "      <td>B</td>\n",
       "    </tr>\n",
       "    <tr>\n",
       "      <th>246</th>\n",
       "      <td>P</td>\n",
       "      <td>N</td>\n",
       "      <td>N</td>\n",
       "      <td>N</td>\n",
       "      <td>N</td>\n",
       "      <td>N</td>\n",
       "      <td>B</td>\n",
       "    </tr>\n",
       "    <tr>\n",
       "      <th>247</th>\n",
       "      <td>A</td>\n",
       "      <td>N</td>\n",
       "      <td>N</td>\n",
       "      <td>N</td>\n",
       "      <td>N</td>\n",
       "      <td>N</td>\n",
       "      <td>B</td>\n",
       "    </tr>\n",
       "    <tr>\n",
       "      <th>248</th>\n",
       "      <td>N</td>\n",
       "      <td>N</td>\n",
       "      <td>N</td>\n",
       "      <td>N</td>\n",
       "      <td>N</td>\n",
       "      <td>N</td>\n",
       "      <td>B</td>\n",
       "    </tr>\n",
       "    <tr>\n",
       "      <th>249</th>\n",
       "      <td>P</td>\n",
       "      <td>N</td>\n",
       "      <td>N</td>\n",
       "      <td>N</td>\n",
       "      <td>A</td>\n",
       "      <td>A</td>\n",
       "      <td>B</td>\n",
       "    </tr>\n",
       "  </tbody>\n",
       "</table>\n",
       "<p>250 rows × 7 columns</p>\n",
       "</div>"
      ],
      "text/plain": [
       "    Industrial Risk Management Risk Financial Flexibility Credibility  \\\n",
       "0                 P               P                     A           A   \n",
       "1                 N               N                     A           A   \n",
       "2                 A               A                     A           A   \n",
       "3                 P               P                     P           P   \n",
       "4                 N               N                     P           P   \n",
       "..              ...             ...                   ...         ...   \n",
       "245               N               N                     A           N   \n",
       "246               P               N                     N           N   \n",
       "247               A               N                     N           N   \n",
       "248               N               N                     N           N   \n",
       "249               P               N                     N           N   \n",
       "\n",
       "    Competitiveness Operating Risk Class  \n",
       "0                 A              P    NB  \n",
       "1                 A              N    NB  \n",
       "2                 A              A    NB  \n",
       "3                 P              P    NB  \n",
       "4                 P              N    NB  \n",
       "..              ...            ...   ...  \n",
       "245               N              N     B  \n",
       "246               N              N     B  \n",
       "247               N              N     B  \n",
       "248               N              N     B  \n",
       "249               A              A     B  \n",
       "\n",
       "[250 rows x 7 columns]"
      ]
     },
     "execution_count": 38,
     "metadata": {},
     "output_type": "execute_result"
    }
   ],
   "source": [
    "QB_df"
   ]
  },
  {
   "cell_type": "code",
   "execution_count": 39,
   "metadata": {},
   "outputs": [
    {
     "name": "stdout",
     "output_type": "stream",
     "text": [
      "Prediction Added : \n",
      "\n"
     ]
    },
    {
     "data": {
      "text/html": [
       "<div>\n",
       "<style scoped>\n",
       "    .dataframe tbody tr th:only-of-type {\n",
       "        vertical-align: middle;\n",
       "    }\n",
       "\n",
       "    .dataframe tbody tr th {\n",
       "        vertical-align: top;\n",
       "    }\n",
       "\n",
       "    .dataframe thead th {\n",
       "        text-align: right;\n",
       "    }\n",
       "</style>\n",
       "<table border=\"1\" class=\"dataframe\">\n",
       "  <thead>\n",
       "    <tr style=\"text-align: right;\">\n",
       "      <th></th>\n",
       "      <th>Industrial Risk</th>\n",
       "      <th>Management Risk</th>\n",
       "      <th>Financial Flexibility</th>\n",
       "      <th>Credibility</th>\n",
       "      <th>Competitiveness</th>\n",
       "      <th>Operating Risk</th>\n",
       "      <th>Class</th>\n",
       "      <th>Predicted Value</th>\n",
       "    </tr>\n",
       "  </thead>\n",
       "  <tbody>\n",
       "    <tr>\n",
       "      <th>0</th>\n",
       "      <td>P</td>\n",
       "      <td>P</td>\n",
       "      <td>A</td>\n",
       "      <td>A</td>\n",
       "      <td>A</td>\n",
       "      <td>P</td>\n",
       "      <td>NB</td>\n",
       "      <td>1</td>\n",
       "    </tr>\n",
       "    <tr>\n",
       "      <th>1</th>\n",
       "      <td>N</td>\n",
       "      <td>N</td>\n",
       "      <td>A</td>\n",
       "      <td>A</td>\n",
       "      <td>A</td>\n",
       "      <td>N</td>\n",
       "      <td>NB</td>\n",
       "      <td>1</td>\n",
       "    </tr>\n",
       "    <tr>\n",
       "      <th>2</th>\n",
       "      <td>A</td>\n",
       "      <td>A</td>\n",
       "      <td>A</td>\n",
       "      <td>A</td>\n",
       "      <td>A</td>\n",
       "      <td>A</td>\n",
       "      <td>NB</td>\n",
       "      <td>1</td>\n",
       "    </tr>\n",
       "    <tr>\n",
       "      <th>3</th>\n",
       "      <td>P</td>\n",
       "      <td>P</td>\n",
       "      <td>P</td>\n",
       "      <td>P</td>\n",
       "      <td>P</td>\n",
       "      <td>P</td>\n",
       "      <td>NB</td>\n",
       "      <td>1</td>\n",
       "    </tr>\n",
       "    <tr>\n",
       "      <th>4</th>\n",
       "      <td>N</td>\n",
       "      <td>N</td>\n",
       "      <td>P</td>\n",
       "      <td>P</td>\n",
       "      <td>P</td>\n",
       "      <td>N</td>\n",
       "      <td>NB</td>\n",
       "      <td>1</td>\n",
       "    </tr>\n",
       "    <tr>\n",
       "      <th>...</th>\n",
       "      <td>...</td>\n",
       "      <td>...</td>\n",
       "      <td>...</td>\n",
       "      <td>...</td>\n",
       "      <td>...</td>\n",
       "      <td>...</td>\n",
       "      <td>...</td>\n",
       "      <td>...</td>\n",
       "    </tr>\n",
       "    <tr>\n",
       "      <th>245</th>\n",
       "      <td>N</td>\n",
       "      <td>N</td>\n",
       "      <td>A</td>\n",
       "      <td>N</td>\n",
       "      <td>N</td>\n",
       "      <td>N</td>\n",
       "      <td>B</td>\n",
       "      <td>0</td>\n",
       "    </tr>\n",
       "    <tr>\n",
       "      <th>246</th>\n",
       "      <td>P</td>\n",
       "      <td>N</td>\n",
       "      <td>N</td>\n",
       "      <td>N</td>\n",
       "      <td>N</td>\n",
       "      <td>N</td>\n",
       "      <td>B</td>\n",
       "      <td>0</td>\n",
       "    </tr>\n",
       "    <tr>\n",
       "      <th>247</th>\n",
       "      <td>A</td>\n",
       "      <td>N</td>\n",
       "      <td>N</td>\n",
       "      <td>N</td>\n",
       "      <td>N</td>\n",
       "      <td>N</td>\n",
       "      <td>B</td>\n",
       "      <td>0</td>\n",
       "    </tr>\n",
       "    <tr>\n",
       "      <th>248</th>\n",
       "      <td>N</td>\n",
       "      <td>N</td>\n",
       "      <td>N</td>\n",
       "      <td>N</td>\n",
       "      <td>N</td>\n",
       "      <td>N</td>\n",
       "      <td>B</td>\n",
       "      <td>0</td>\n",
       "    </tr>\n",
       "    <tr>\n",
       "      <th>249</th>\n",
       "      <td>P</td>\n",
       "      <td>N</td>\n",
       "      <td>N</td>\n",
       "      <td>N</td>\n",
       "      <td>A</td>\n",
       "      <td>A</td>\n",
       "      <td>B</td>\n",
       "      <td>0</td>\n",
       "    </tr>\n",
       "  </tbody>\n",
       "</table>\n",
       "<p>250 rows × 8 columns</p>\n",
       "</div>"
      ],
      "text/plain": [
       "    Industrial Risk Management Risk Financial Flexibility Credibility  \\\n",
       "0                 P               P                     A           A   \n",
       "1                 N               N                     A           A   \n",
       "2                 A               A                     A           A   \n",
       "3                 P               P                     P           P   \n",
       "4                 N               N                     P           P   \n",
       "..              ...             ...                   ...         ...   \n",
       "245               N               N                     A           N   \n",
       "246               P               N                     N           N   \n",
       "247               A               N                     N           N   \n",
       "248               N               N                     N           N   \n",
       "249               P               N                     N           N   \n",
       "\n",
       "    Competitiveness Operating Risk Class  Predicted Value  \n",
       "0                 A              P    NB                1  \n",
       "1                 A              N    NB                1  \n",
       "2                 A              A    NB                1  \n",
       "3                 P              P    NB                1  \n",
       "4                 P              N    NB                1  \n",
       "..              ...            ...   ...              ...  \n",
       "245               N              N     B                0  \n",
       "246               N              N     B                0  \n",
       "247               N              N     B                0  \n",
       "248               N              N     B                0  \n",
       "249               A              A     B                0  \n",
       "\n",
       "[250 rows x 8 columns]"
      ]
     },
     "execution_count": 39,
     "metadata": {},
     "output_type": "execute_result"
    }
   ],
   "source": [
    "# Append the prediction \n",
    "QB_df[\"Predicted Value\"] = prediction\n",
    "print(\"Prediction Added : \\n\")\n",
    "QB_df"
   ]
  },
  {
   "cell_type": "code",
   "execution_count": 40,
   "metadata": {},
   "outputs": [
    {
     "name": "stdout",
     "output_type": "stream",
     "text": [
      "Prediction Added : \n",
      "\n"
     ]
    },
    {
     "data": {
      "text/html": [
       "<div>\n",
       "<style scoped>\n",
       "    .dataframe tbody tr th:only-of-type {\n",
       "        vertical-align: middle;\n",
       "    }\n",
       "\n",
       "    .dataframe tbody tr th {\n",
       "        vertical-align: top;\n",
       "    }\n",
       "\n",
       "    .dataframe thead th {\n",
       "        text-align: right;\n",
       "    }\n",
       "</style>\n",
       "<table border=\"1\" class=\"dataframe\">\n",
       "  <thead>\n",
       "    <tr style=\"text-align: right;\">\n",
       "      <th></th>\n",
       "      <th>Industrial Risk</th>\n",
       "      <th>Management Risk</th>\n",
       "      <th>Financial Flexibility</th>\n",
       "      <th>Credibility</th>\n",
       "      <th>Competitiveness</th>\n",
       "      <th>Operating Risk</th>\n",
       "      <th>Predicted Values</th>\n",
       "    </tr>\n",
       "  </thead>\n",
       "  <tbody>\n",
       "    <tr>\n",
       "      <th>0</th>\n",
       "      <td>2</td>\n",
       "      <td>2</td>\n",
       "      <td>0</td>\n",
       "      <td>0</td>\n",
       "      <td>0</td>\n",
       "      <td>2</td>\n",
       "      <td>1</td>\n",
       "    </tr>\n",
       "    <tr>\n",
       "      <th>1</th>\n",
       "      <td>1</td>\n",
       "      <td>1</td>\n",
       "      <td>0</td>\n",
       "      <td>0</td>\n",
       "      <td>0</td>\n",
       "      <td>1</td>\n",
       "      <td>1</td>\n",
       "    </tr>\n",
       "    <tr>\n",
       "      <th>2</th>\n",
       "      <td>0</td>\n",
       "      <td>0</td>\n",
       "      <td>0</td>\n",
       "      <td>0</td>\n",
       "      <td>0</td>\n",
       "      <td>0</td>\n",
       "      <td>1</td>\n",
       "    </tr>\n",
       "    <tr>\n",
       "      <th>3</th>\n",
       "      <td>2</td>\n",
       "      <td>2</td>\n",
       "      <td>2</td>\n",
       "      <td>2</td>\n",
       "      <td>2</td>\n",
       "      <td>2</td>\n",
       "      <td>1</td>\n",
       "    </tr>\n",
       "    <tr>\n",
       "      <th>4</th>\n",
       "      <td>1</td>\n",
       "      <td>1</td>\n",
       "      <td>2</td>\n",
       "      <td>2</td>\n",
       "      <td>2</td>\n",
       "      <td>1</td>\n",
       "      <td>1</td>\n",
       "    </tr>\n",
       "    <tr>\n",
       "      <th>...</th>\n",
       "      <td>...</td>\n",
       "      <td>...</td>\n",
       "      <td>...</td>\n",
       "      <td>...</td>\n",
       "      <td>...</td>\n",
       "      <td>...</td>\n",
       "      <td>...</td>\n",
       "    </tr>\n",
       "    <tr>\n",
       "      <th>245</th>\n",
       "      <td>1</td>\n",
       "      <td>1</td>\n",
       "      <td>0</td>\n",
       "      <td>1</td>\n",
       "      <td>1</td>\n",
       "      <td>1</td>\n",
       "      <td>0</td>\n",
       "    </tr>\n",
       "    <tr>\n",
       "      <th>246</th>\n",
       "      <td>2</td>\n",
       "      <td>1</td>\n",
       "      <td>1</td>\n",
       "      <td>1</td>\n",
       "      <td>1</td>\n",
       "      <td>1</td>\n",
       "      <td>0</td>\n",
       "    </tr>\n",
       "    <tr>\n",
       "      <th>247</th>\n",
       "      <td>0</td>\n",
       "      <td>1</td>\n",
       "      <td>1</td>\n",
       "      <td>1</td>\n",
       "      <td>1</td>\n",
       "      <td>1</td>\n",
       "      <td>0</td>\n",
       "    </tr>\n",
       "    <tr>\n",
       "      <th>248</th>\n",
       "      <td>1</td>\n",
       "      <td>1</td>\n",
       "      <td>1</td>\n",
       "      <td>1</td>\n",
       "      <td>1</td>\n",
       "      <td>1</td>\n",
       "      <td>0</td>\n",
       "    </tr>\n",
       "    <tr>\n",
       "      <th>249</th>\n",
       "      <td>2</td>\n",
       "      <td>1</td>\n",
       "      <td>1</td>\n",
       "      <td>1</td>\n",
       "      <td>0</td>\n",
       "      <td>0</td>\n",
       "      <td>0</td>\n",
       "    </tr>\n",
       "  </tbody>\n",
       "</table>\n",
       "<p>250 rows × 7 columns</p>\n",
       "</div>"
      ],
      "text/plain": [
       "     Industrial Risk  Management Risk  Financial Flexibility  Credibility  \\\n",
       "0                  2                2                      0            0   \n",
       "1                  1                1                      0            0   \n",
       "2                  0                0                      0            0   \n",
       "3                  2                2                      2            2   \n",
       "4                  1                1                      2            2   \n",
       "..               ...              ...                    ...          ...   \n",
       "245                1                1                      0            1   \n",
       "246                2                1                      1            1   \n",
       "247                0                1                      1            1   \n",
       "248                1                1                      1            1   \n",
       "249                2                1                      1            1   \n",
       "\n",
       "     Competitiveness  Operating Risk  Predicted Values  \n",
       "0                  0               2                 1  \n",
       "1                  0               1                 1  \n",
       "2                  0               0                 1  \n",
       "3                  2               2                 1  \n",
       "4                  2               1                 1  \n",
       "..               ...             ...               ...  \n",
       "245                1               1                 0  \n",
       "246                1               1                 0  \n",
       "247                1               1                 0  \n",
       "248                1               1                 0  \n",
       "249                0               0                 0  \n",
       "\n",
       "[250 rows x 7 columns]"
      ]
     },
     "execution_count": 40,
     "metadata": {},
     "output_type": "execute_result"
    }
   ],
   "source": [
    "# Append the prediction \n",
    "QBE_df[\"Predicted Values\"] = prediction\n",
    "print(\"Prediction Added : \\n\")\n",
    "QBE_df"
   ]
  },
  {
   "cell_type": "code",
   "execution_count": 41,
   "metadata": {},
   "outputs": [
    {
     "data": {
      "text/html": [
       "<div>\n",
       "<style scoped>\n",
       "    .dataframe tbody tr th:only-of-type {\n",
       "        vertical-align: middle;\n",
       "    }\n",
       "\n",
       "    .dataframe tbody tr th {\n",
       "        vertical-align: top;\n",
       "    }\n",
       "\n",
       "    .dataframe thead th {\n",
       "        text-align: right;\n",
       "    }\n",
       "</style>\n",
       "<table border=\"1\" class=\"dataframe\">\n",
       "  <thead>\n",
       "    <tr style=\"text-align: right;\">\n",
       "      <th></th>\n",
       "      <th>Industrial Risk</th>\n",
       "      <th>Management Risk</th>\n",
       "      <th>Financial Flexibility</th>\n",
       "      <th>Credibility</th>\n",
       "      <th>Competitiveness</th>\n",
       "      <th>Operating Risk</th>\n",
       "      <th>Predicted Values</th>\n",
       "    </tr>\n",
       "  </thead>\n",
       "  <tbody>\n",
       "    <tr>\n",
       "      <th>0</th>\n",
       "      <td>2</td>\n",
       "      <td>2</td>\n",
       "      <td>0</td>\n",
       "      <td>0</td>\n",
       "      <td>0</td>\n",
       "      <td>2</td>\n",
       "      <td>1</td>\n",
       "    </tr>\n",
       "    <tr>\n",
       "      <th>1</th>\n",
       "      <td>1</td>\n",
       "      <td>1</td>\n",
       "      <td>0</td>\n",
       "      <td>0</td>\n",
       "      <td>0</td>\n",
       "      <td>1</td>\n",
       "      <td>1</td>\n",
       "    </tr>\n",
       "    <tr>\n",
       "      <th>2</th>\n",
       "      <td>0</td>\n",
       "      <td>0</td>\n",
       "      <td>0</td>\n",
       "      <td>0</td>\n",
       "      <td>0</td>\n",
       "      <td>0</td>\n",
       "      <td>1</td>\n",
       "    </tr>\n",
       "    <tr>\n",
       "      <th>3</th>\n",
       "      <td>2</td>\n",
       "      <td>2</td>\n",
       "      <td>2</td>\n",
       "      <td>2</td>\n",
       "      <td>2</td>\n",
       "      <td>2</td>\n",
       "      <td>1</td>\n",
       "    </tr>\n",
       "    <tr>\n",
       "      <th>4</th>\n",
       "      <td>1</td>\n",
       "      <td>1</td>\n",
       "      <td>2</td>\n",
       "      <td>2</td>\n",
       "      <td>2</td>\n",
       "      <td>1</td>\n",
       "      <td>1</td>\n",
       "    </tr>\n",
       "  </tbody>\n",
       "</table>\n",
       "</div>"
      ],
      "text/plain": [
       "   Industrial Risk  Management Risk  Financial Flexibility  Credibility  \\\n",
       "0                2                2                      0            0   \n",
       "1                1                1                      0            0   \n",
       "2                0                0                      0            0   \n",
       "3                2                2                      2            2   \n",
       "4                1                1                      2            2   \n",
       "\n",
       "   Competitiveness  Operating Risk  Predicted Values  \n",
       "0                0               2                 1  \n",
       "1                0               1                 1  \n",
       "2                0               0                 1  \n",
       "3                2               2                 1  \n",
       "4                2               1                 1  "
      ]
     },
     "execution_count": 41,
     "metadata": {},
     "output_type": "execute_result"
    }
   ],
   "source": [
    "QBE_df[\"Industrial Risk\"]= LE.fit_transform(QBE_df[\"Industrial Risk\"])\n",
    "QBE_df[\"Management Risk\"]=LE.fit_transform(QBE_df[\"Management Risk\"])\n",
    "QBE_df[\"Financial Flexibility\"]=LE.fit_transform(QBE_df[\"Financial Flexibility\"])\n",
    "QBE_df[\"Credibility\"]=LE.fit_transform(QBE_df[\"Credibility\"])\n",
    "QBE_df[\"Competitiveness\"]=LE.fit_transform(QBE_df[\"Competitiveness\"])\n",
    "QBE_df[\"Operating Risk\"]=LE.fit_transform(QBE_df[\"Operating Risk\"])\n",
    "QBE_df[\"Predicted Values\"]=LE.fit_transform(QBE_df[\"Predicted Values\"])\n",
    "QBE_df.head()"
   ]
  },
  {
   "cell_type": "code",
   "execution_count": 59,
   "metadata": {},
   "outputs": [
    {
     "name": "stdout",
     "output_type": "stream",
     "text": [
      "(250, 20)\n"
     ]
    },
    {
     "data": {
      "text/plain": [
       "array([[0., 0., 1., ..., 1., 0., 1.],\n",
       "       [0., 1., 0., ..., 0., 0., 1.],\n",
       "       [1., 0., 0., ..., 0., 0., 1.],\n",
       "       ...,\n",
       "       [1., 0., 0., ..., 0., 1., 0.],\n",
       "       [0., 1., 0., ..., 0., 1., 0.],\n",
       "       [0., 0., 1., ..., 0., 1., 0.]])"
      ]
     },
     "execution_count": 59,
     "metadata": {},
     "output_type": "execute_result"
    }
   ],
   "source": [
    "new_features = OHE.fit_transform(QBE_df,\"categories='auto'\").toarray()\n",
    "print(new_features.shape)\n",
    "new_features"
   ]
  },
  {
   "cell_type": "code",
   "execution_count": 43,
   "metadata": {},
   "outputs": [
    {
     "name": "stdout",
     "output_type": "stream",
     "text": [
      "[2 2 1 3 7 8 1 0 8 0 1 6 7 5 3 6 0 5 7 7 6 7 0 2 8 1 1 1 0 4 4 0 7 1 7 3 0\n",
      " 2 4 4 0 3 5 6 2 7 1 7 4 0 5 0 4 7 2 0 1 8 8 1 6 7 7 0 3 8 2 1 3 2 0 8 5 0\n",
      " 7 5 0 0 7 7 0 2 2 6 1 3 5 1 0 3 2 7 7 4 3 5 5 1 6 2 5 4 5 5 2 7 3 0 6 3 3\n",
      " 7 1 1 5 7 6 5 5 6 8 4 2 7 5 3 2 0 2 0 1 5 0 1 3 1 8 8 8 7 5 8 5 1 4 5 1 0\n",
      " 0 3 4 7 5 3 5 2 5 7 0 1 5 0 0 8 7 4 3 8 6 1 1 1 1 1 5 1 3 6 7 1 7 8 6 7 7\n",
      " 5 0 5 3 1 8 4 1 3 4 1 1 7 4 1]\n",
      "[1 1 1 1 1 1 1 1 1 1 1 1 1 1 1 1 1 1 1 1 1 1 1 1 1 1 1 1 1 1 1 1 1 1 1 1 1\n",
      " 1 1 1 1 1 1 1 1 1 1 1 1 1 1 1 1 1 1 1 1 1 1 1 1 1 1 1 1 1 1 1 1 1 1 1 1 1\n",
      " 1 1 1 1 1 1 1 1 1 1 1 1 1 1 1 1 1 1 1 1 1 1 1 1 1 1 1 1 1 1 1 1 1 1 1 1 1\n",
      " 1 1 1 1 1 1 1 1 1 1 1 1 1 1 1 1 1 1 1 1 1 1 1 1 1 1 1 1 1 1 1 1 0 0 0 0 0\n",
      " 0 0 0 0 0 0 0 0 0 0 0 0 0 0 0 0 0 0 0 0 0 0 0 0 0 0 0 0 0 0 0 0 0 0 0 0 0\n",
      " 0 0 0 0 0 0 0 0 0 0 0 0 0 0 0 0 0 0 0 0 0 0 0 0 0 0 0 0 0 0 0 0 0 0 0 0 0\n",
      " 0 0 0 0 0 0 0 0 0 0 0 0 0 0 0 0 0 0 0 0 0 0 0 0 0 0 0 0]\n"
     ]
    }
   ],
   "source": [
    "print(labels,'\\n')\n",
    "print(new_labels)"
   ]
  },
  {
   "cell_type": "code",
   "execution_count": 44,
   "metadata": {},
   "outputs": [
    {
     "name": "stdout",
     "output_type": "stream",
     "text": [
      "X_train shape -- > (200, 20)\n",
      "Y_train shape -- > (200,)\n",
      "X_test shape -- > (50, 20)\n",
      "Y_test shape -- > (50,)\n"
     ]
    }
   ],
   "source": [
    "# Create Train Test Data\n",
    "Xn_train,Xn_test,Yn_train,Yn_test=train_test_split(new_features, new_labels, test_size=0.2, random_state=9)\n",
    "print(\"X_train shape -- > {}\".format(X_train.shape))\n",
    "print(\"Y_train shape -- > {}\".format(Y_train.shape))\n",
    "print(\"X_test shape -- > {}\".format(X_test.shape))\n",
    "print(\"Y_test shape -- > {}\".format(Y_test.shape))"
   ]
  },
  {
   "cell_type": "code",
   "execution_count": 45,
   "metadata": {},
   "outputs": [
    {
     "name": "stdout",
     "output_type": "stream",
     "text": [
      "X_train values -- > {} [[1. 0. 0. ... 1. 0. 1.]\n",
      " [1. 0. 0. ... 1. 0. 1.]\n",
      " [0. 1. 0. ... 0. 0. 1.]\n",
      " ...\n",
      " [0. 0. 1. ... 0. 1. 0.]\n",
      " [1. 0. 0. ... 0. 0. 1.]\n",
      " [0. 1. 0. ... 0. 0. 1.]]\n",
      "Y_train values -- > {} [1 1 1 0 0 1 0 0 1 1 0 0 0 1 0 0 0 0 0 1 0 0 1 1 1 1 0 0 0 1 1 1 0 0 1 0 1\n",
      " 1 1 1 1 0 1 0 1 1 1 1 1 1 1 1 1 0 1 1 1 1 1 0 0 0 0 1 1 1 1 1 0 1 1 1 0 1\n",
      " 1 0 1 0 0 1 1 1 1 0 0 0 1 0 1 0 1 0 0 1 0 1 1 0 0 1 1 1 0 1 1 1 0 1 0 1 0\n",
      " 0 1 1 0 0 0 0 1 0 1 1 1 0 1 0 1 1 1 1 1 1 0 0 0 0 1 1 1 0 0 1 0 0 1 1 1 0\n",
      " 0 0 1 0 0 1 0 1 1 0 1 0 0 1 1 1 0 1 0 1 0 0 1 1 1 1 1 0 0 0 0 0 0 1 0 0 0\n",
      " 1 1 1 1 0 1 1 1 0 1 0 0 0 1 1]\n",
      "X_test values -- > {} [[1. 0. 0. 1. 0. 0. 0. 1. 0. 0. 0. 1. 0. 0. 1. 0. 0. 1. 0. 1.]\n",
      " [0. 0. 1. 1. 0. 0. 0. 1. 0. 1. 0. 0. 0. 0. 1. 1. 0. 0. 0. 1.]\n",
      " [0. 1. 0. 0. 1. 0. 0. 1. 0. 1. 0. 0. 0. 1. 0. 0. 0. 1. 1. 0.]\n",
      " [0. 0. 1. 0. 1. 0. 0. 1. 0. 0. 1. 0. 0. 1. 0. 0. 1. 0. 1. 0.]\n",
      " [0. 1. 0. 0. 1. 0. 0. 1. 0. 0. 1. 0. 0. 1. 0. 1. 0. 0. 1. 0.]\n",
      " [0. 0. 1. 0. 1. 0. 1. 0. 0. 1. 0. 0. 1. 0. 0. 0. 1. 0. 0. 1.]\n",
      " [0. 1. 0. 0. 1. 0. 0. 0. 1. 0. 0. 1. 1. 0. 0. 0. 1. 0. 0. 1.]\n",
      " [0. 0. 1. 0. 0. 1. 0. 1. 0. 0. 1. 0. 0. 1. 0. 0. 1. 0. 1. 0.]\n",
      " [0. 1. 0. 0. 1. 0. 0. 1. 0. 1. 0. 0. 0. 1. 0. 1. 0. 0. 1. 0.]\n",
      " [0. 0. 1. 0. 1. 0. 0. 1. 0. 0. 1. 0. 0. 1. 0. 0. 1. 0. 1. 0.]\n",
      " [0. 1. 0. 0. 1. 0. 0. 1. 0. 0. 1. 0. 0. 1. 0. 1. 0. 0. 1. 0.]\n",
      " [0. 0. 1. 0. 0. 1. 1. 0. 0. 0. 0. 1. 0. 0. 1. 0. 0. 1. 0. 1.]\n",
      " [0. 1. 0. 0. 1. 0. 1. 0. 0. 0. 1. 0. 0. 1. 0. 0. 1. 0. 1. 0.]\n",
      " [0. 1. 0. 0. 0. 1. 1. 0. 0. 1. 0. 0. 1. 0. 0. 0. 1. 0. 0. 1.]\n",
      " [1. 0. 0. 1. 0. 0. 1. 0. 0. 0. 0. 1. 1. 0. 0. 0. 0. 1. 0. 1.]\n",
      " [0. 1. 0. 0. 1. 0. 1. 0. 0. 0. 0. 1. 0. 0. 1. 0. 0. 1. 0. 1.]\n",
      " [0. 0. 1. 1. 0. 0. 0. 1. 0. 0. 1. 0. 0. 1. 0. 0. 1. 0. 1. 0.]\n",
      " [0. 0. 1. 1. 0. 0. 1. 0. 0. 0. 1. 0. 0. 0. 1. 0. 0. 1. 0. 1.]\n",
      " [1. 0. 0. 0. 1. 0. 1. 0. 0. 1. 0. 0. 0. 0. 1. 1. 0. 0. 0. 1.]\n",
      " [0. 0. 1. 0. 1. 0. 0. 0. 1. 1. 0. 0. 1. 0. 0. 0. 0. 1. 0. 1.]\n",
      " [1. 0. 0. 0. 0. 1. 1. 0. 0. 0. 0. 1. 1. 0. 0. 0. 0. 1. 0. 1.]\n",
      " [1. 0. 0. 1. 0. 0. 1. 0. 0. 0. 0. 1. 0. 0. 1. 1. 0. 0. 0. 1.]\n",
      " [0. 0. 1. 0. 1. 0. 0. 1. 0. 0. 1. 0. 0. 1. 0. 0. 0. 1. 1. 0.]\n",
      " [0. 0. 1. 1. 0. 0. 0. 1. 0. 0. 1. 0. 0. 1. 0. 0. 1. 0. 1. 0.]\n",
      " [0. 1. 0. 0. 1. 0. 0. 1. 0. 1. 0. 0. 0. 1. 0. 1. 0. 0. 1. 0.]\n",
      " [1. 0. 0. 0. 0. 1. 0. 0. 1. 1. 0. 0. 1. 0. 0. 1. 0. 0. 0. 1.]\n",
      " [1. 0. 0. 1. 0. 0. 1. 0. 0. 1. 0. 0. 0. 0. 1. 1. 0. 0. 0. 1.]\n",
      " [0. 1. 0. 0. 1. 0. 1. 0. 0. 0. 0. 1. 1. 0. 0. 0. 1. 0. 0. 1.]\n",
      " [1. 0. 0. 1. 0. 0. 1. 0. 0. 0. 0. 1. 0. 0. 1. 0. 0. 1. 0. 1.]\n",
      " [0. 1. 0. 0. 0. 1. 0. 1. 0. 0. 1. 0. 0. 1. 0. 0. 1. 0. 1. 0.]\n",
      " [0. 1. 0. 0. 1. 0. 0. 0. 1. 0. 0. 1. 0. 0. 1. 1. 0. 0. 0. 1.]\n",
      " [1. 0. 0. 0. 0. 1. 0. 1. 0. 1. 0. 0. 0. 1. 0. 0. 1. 0. 1. 0.]\n",
      " [1. 0. 0. 1. 0. 0. 0. 1. 0. 0. 0. 1. 0. 0. 1. 1. 0. 0. 0. 1.]\n",
      " [1. 0. 0. 0. 1. 0. 1. 0. 0. 0. 0. 1. 0. 0. 1. 1. 0. 0. 0. 1.]\n",
      " [0. 0. 1. 0. 0. 1. 1. 0. 0. 0. 0. 1. 0. 0. 1. 0. 1. 0. 0. 1.]\n",
      " [0. 1. 0. 0. 1. 0. 0. 0. 1. 0. 0. 1. 0. 0. 1. 0. 0. 1. 0. 1.]\n",
      " [1. 0. 0. 1. 0. 0. 0. 1. 0. 0. 1. 0. 0. 1. 0. 0. 0. 1. 1. 0.]\n",
      " [0. 1. 0. 0. 1. 0. 0. 1. 0. 0. 1. 0. 0. 1. 0. 0. 0. 1. 1. 0.]\n",
      " [0. 0. 1. 0. 0. 1. 1. 0. 0. 0. 0. 1. 1. 0. 0. 0. 0. 1. 0. 1.]\n",
      " [0. 0. 1. 1. 0. 0. 0. 0. 1. 0. 1. 0. 0. 0. 1. 0. 1. 0. 0. 1.]\n",
      " [1. 0. 0. 1. 0. 0. 1. 0. 0. 0. 0. 1. 0. 0. 1. 1. 0. 0. 0. 1.]\n",
      " [0. 0. 1. 0. 0. 1. 1. 0. 0. 0. 0. 1. 0. 0. 1. 0. 0. 1. 0. 1.]\n",
      " [0. 0. 1. 0. 1. 0. 1. 0. 0. 1. 0. 0. 1. 0. 0. 0. 1. 0. 0. 1.]\n",
      " [0. 1. 0. 0. 1. 0. 0. 0. 1. 1. 0. 0. 0. 0. 1. 0. 0. 1. 0. 1.]\n",
      " [0. 0. 1. 0. 0. 1. 0. 0. 1. 0. 0. 1. 0. 0. 1. 0. 0. 1. 0. 1.]\n",
      " [0. 1. 0. 1. 0. 0. 0. 1. 0. 0. 1. 0. 0. 1. 0. 0. 1. 0. 1. 0.]\n",
      " [1. 0. 0. 1. 0. 0. 0. 0. 1. 1. 0. 0. 1. 0. 0. 1. 0. 0. 0. 1.]\n",
      " [1. 0. 0. 0. 0. 1. 1. 0. 0. 1. 0. 0. 1. 0. 0. 0. 0. 1. 0. 1.]\n",
      " [0. 1. 0. 0. 1. 0. 1. 0. 0. 1. 0. 0. 0. 0. 1. 0. 1. 0. 0. 1.]\n",
      " [1. 0. 0. 0. 0. 1. 0. 1. 0. 1. 0. 0. 0. 1. 0. 0. 1. 0. 1. 0.]]\n",
      "Y_test values -- > {} [1 1 0 0 0 1 1 0 0 0 0 1 0 1 1 1 0 1 1 1 1 1 0 0 0 1 1 1 1 0 1 0 1 1 1 1 0\n",
      " 0 1 1 1 1 1 1 1 0 1 1 1 0]\n"
     ]
    }
   ],
   "source": [
    "print(\"X_train values -- > {}\",Xn_train)\n",
    "print(\"Y_train values -- > {}\",Yn_train)\n",
    "print(\"X_test values -- > {}\",Xn_test)\n",
    "print(\"Y_test values -- > {}\",Yn_test)"
   ]
  },
  {
   "cell_type": "code",
   "execution_count": 70,
   "metadata": {},
   "outputs": [
    {
     "name": "stdout",
     "output_type": "stream",
     "text": [
      "X_train shape -- > (200, 10)\n",
      "X_test shape -- > (50, 10) \n",
      "\n",
      "X_train values -- > {} [[-1.38708635e+00  7.63992241e-01 -1.19857992e+00 ... -2.69475810e-01\n",
      "   5.47020368e-02  6.80393851e-04]\n",
      " [-1.38708635e+00  7.63992241e-01 -1.19857992e+00 ... -2.69475810e-01\n",
      "   5.47020368e-02  6.80393851e-04]\n",
      " [-6.24496361e-01 -1.08458680e+00 -7.02793562e-01 ... -4.98409824e-02\n",
      "  -3.05603725e-01 -2.03605958e-01]\n",
      " ...\n",
      " [ 8.86291519e-01  4.29142542e-01 -4.45594599e-01 ... -6.16333374e-01\n",
      "  -3.27943881e-01  6.42036767e-01]\n",
      " [-4.92512258e-01  4.64705865e-01  1.52703660e-01 ... -5.47627145e-01\n",
      "   8.12932537e-01  3.28385102e-01]\n",
      " [-6.89525621e-01 -1.50107009e+00  5.36186663e-01 ... -2.23156804e-01\n",
      "  -4.99134129e-02 -3.42982946e-01]] \n",
      "\n",
      "X_test values -- > {} [[-9.02378942e-01  1.12742132e+00  2.40477213e-01 -5.16027714e-01\n",
      "   5.04170581e-01  3.06451120e-01  3.85116958e-01  4.17333702e-01\n",
      "   5.03033638e-01 -6.64932448e-01]\n",
      " [-7.63910199e-01  5.39213480e-01  7.38123324e-01  3.70568829e-01\n",
      "  -1.85839008e-01 -1.15549432e+00  1.57692006e-01  4.51484227e-01\n",
      "   1.01146102e-01  6.30953192e-01]\n",
      " [ 9.82597234e-01 -3.28463887e-01 -9.84526982e-01  1.56515557e-01\n",
      "  -3.33183566e-01 -4.75691972e-01  9.01348741e-01  3.93619952e-01\n",
      "   2.58812055e-01 -4.73099072e-01]\n",
      " [ 1.50466054e+00 -2.22692827e-01  3.15088406e-01  7.75786367e-01\n",
      "   3.43967531e-01 -2.29050256e-02 -4.72723410e-01 -3.75076634e-01\n",
      "   1.74669833e-01  3.80345711e-02]\n",
      " [ 1.59241511e+00 -2.78173830e-02 -4.04842833e-01 -4.62164269e-01\n",
      "   2.70119112e-01 -7.15034663e-01  2.11274835e-01  2.88166567e-01\n",
      "  -1.35966824e-01  5.10665768e-01]\n",
      " [-7.73490352e-01 -8.06508413e-01 -3.34726943e-01  5.81591629e-01\n",
      "  -7.37591677e-01 -4.24018154e-01 -1.19719165e+00 -6.60909037e-01\n",
      "   2.39848027e-02 -6.06970821e-02]\n",
      " [-6.21725505e-01 -1.17127327e+00 -2.44192338e-01 -7.79550807e-01\n",
      "   4.79458106e-01  1.38463220e-01 -2.85302398e-01 -5.59365829e-01\n",
      "  -1.02259101e+00 -4.84019449e-01]\n",
      " [ 1.14751017e+00  1.36987017e-01  3.24492110e-01  1.11656978e+00\n",
      "   1.53319057e-01  7.90952651e-01 -6.64647026e-02 -1.22864717e-01\n",
      "  -1.39838610e-01  8.07590888e-01]\n",
      " [ 1.12045173e+00 -2.97832537e-01 -5.43481229e-01 -4.24115136e-01\n",
      "  -4.20214937e-01 -1.02327642e+00  6.24189177e-01  2.05661923e-01\n",
      "  -3.52084602e-03  4.91084796e-01]\n",
      " [ 1.50466054e+00 -2.22692827e-01  3.15088406e-01  7.75786367e-01\n",
      "   3.43967531e-01 -2.29050256e-02 -4.72723410e-01 -3.75076634e-01\n",
      "   1.74669833e-01  3.80345711e-02]\n",
      " [ 1.59241511e+00 -2.78173830e-02 -4.04842833e-01 -4.62164269e-01\n",
      "   2.70119112e-01 -7.15034663e-01  2.11274835e-01  2.88166567e-01\n",
      "  -1.35966824e-01  5.10665768e-01]\n",
      " [-1.56774712e+00  1.14674484e-01 -4.09092464e-01  6.37285438e-01\n",
      "   7.49696939e-01  4.95267462e-01 -1.79643070e-01  5.31235145e-01\n",
      "   7.36597544e-01  4.17752119e-01]\n",
      " [ 1.18628520e+00 -8.60330157e-01 -1.92240743e-01 -1.81199702e-01\n",
      "  -3.43378934e-01  2.10529697e-01 -6.72260509e-01  4.10181834e-01\n",
      "   1.11703950e-01 -9.69149591e-02]\n",
      " [-9.24909286e-01 -8.74566089e-01 -6.69643908e-01 -3.20687513e-03\n",
      "  -1.24333777e+00  5.94711470e-01 -3.30323073e-01  8.11742470e-02\n",
      "  -5.44498440e-01  5.93783634e-01]\n",
      " [-1.30194816e+00  1.09765921e+00 -6.79164319e-01 -4.99007943e-01\n",
      "  -1.14277784e-01  4.12539315e-01 -7.74945761e-01  2.55315091e-01\n",
      "  -2.03021319e-01 -7.98009605e-01]\n",
      " [-1.00486530e+00 -6.72742880e-01 -7.62816836e-01 -6.29079901e-01\n",
      "   6.25247790e-01 -1.13718266e-01 -1.25291903e-01  7.68894595e-01\n",
      "   7.97131189e-01 -4.66879799e-01]\n",
      " [ 1.23264835e+00  4.70653982e-01  8.43907713e-01  8.94152052e-01\n",
      "   3.60226315e-02  2.48708591e-01 -5.01290839e-01  4.01926183e-01\n",
      "  -3.97561966e-01  8.90088936e-03]\n",
      " [-9.53908099e-01  5.68697475e-01  2.72707485e-01  8.81746241e-01\n",
      "   2.19277570e-01 -2.71105338e-01 -6.38209745e-01  1.01733400e+00\n",
      "   4.22041940e-01 -3.33523633e-01]\n",
      " [-9.59881594e-01  1.05146928e-01  1.34411288e-02 -7.41500570e-01\n",
      "  -7.50621725e-01 -1.01655467e+00 -1.34448347e-01 -3.73436731e-01\n",
      "   1.07955518e+00  3.36344447e-01]\n",
      " [-1.02655087e+00 -3.01213265e-01 -6.92782044e-01  9.19220760e-01\n",
      "   1.93793121e-02 -9.48196363e-01  1.43809466e-01 -8.09104019e-01\n",
      "  -4.87331444e-01 -7.17587642e-01]\n",
      " [-1.38708635e+00  7.63992241e-01 -1.19857992e+00 -2.76590212e-01\n",
      "   3.01864152e-03  9.54783374e-01 -3.40119624e-01 -2.69475810e-01\n",
      "   5.47020368e-02  6.80393851e-04]\n",
      " [-1.28863124e+00  9.48152865e-01  5.18514485e-01 -1.12806255e+00\n",
      "   4.48903676e-02 -2.12570552e-01 -5.52189579e-01  5.24762774e-01\n",
      "   4.31709653e-01  2.79377491e-01]\n",
      " [ 1.24882917e+00  3.69288788e-01 -5.01567918e-01  1.04404834e+00\n",
      "   6.72248106e-01 -3.72322163e-01  2.78245246e-02 -1.37467701e-02\n",
      "   3.80340875e-01 -3.38442498e-01]\n",
      " [ 1.23264835e+00  4.70653982e-01  8.43907713e-01  8.94152052e-01\n",
      "   3.60226315e-02  2.48708591e-01 -5.01290839e-01  4.01926183e-01\n",
      "  -3.97561966e-01  8.90088936e-03]\n",
      " [ 1.12045173e+00 -2.97832537e-01 -5.43481229e-01 -4.24115136e-01\n",
      "  -4.20214937e-01 -1.02327642e+00  6.24189177e-01  2.05661923e-01\n",
      "  -3.52084602e-03  4.91084796e-01]\n",
      " [-1.18972355e+00  5.58277995e-01 -2.75186995e-01 -2.82926083e-01\n",
      "  -7.58779308e-01 -2.99932643e-01  6.12347800e-01 -1.08815537e+00\n",
      "  -8.49004424e-01  7.12284046e-01]\n",
      " [-1.23189379e+00  7.98493737e-01  5.42260435e-01 -6.23134885e-01\n",
      "  -1.05856662e+00 -7.44941050e-01 -1.63015776e-01  4.03566087e-01\n",
      "   5.07323381e-01  3.07210766e-01]\n",
      " [-6.24496361e-01 -1.08458680e+00 -7.02793562e-01 -8.48917960e-01\n",
      "   5.07676921e-02  3.13224291e-01 -1.12575558e+00 -4.98409824e-02\n",
      "  -3.05603725e-01 -2.03605958e-01]\n",
      " [-1.42648573e+00  9.17521516e-01  7.74687317e-02 -5.47431861e-01\n",
      "   1.31921739e-01  3.35013895e-01 -2.75030015e-01  7.12720804e-01\n",
      "   6.94042553e-01 -6.84806377e-01]\n",
      " [ 1.35324161e+00 -2.90750503e-01 -1.98285588e-02  1.90987863e-01\n",
      "  -1.61778567e-01  9.95824598e-01  3.94145171e-01  3.67006649e-01\n",
      "  -3.93813409e-01  6.92515287e-01]\n",
      " [-8.64239949e-01 -7.28797998e-01  1.36830141e-01 -1.14034344e+00\n",
      "   9.66906832e-01 -8.36063785e-01  4.38001718e-01  7.14117184e-02\n",
      "  -1.82189000e-01  2.16890578e-01]\n",
      " [ 7.31669988e-01  3.36151929e-01  1.52999307e-01  1.92319350e-01\n",
      "  -1.03749377e+00  8.64701386e-01  6.85888831e-01 -5.48674603e-01\n",
      "   2.07775732e-01  4.84141419e-01]\n",
      " [-7.64524449e-01  1.15805267e+00  6.81522966e-01 -1.09665841e+00\n",
      "   4.17139210e-01 -2.41133328e-01  1.07957394e-01  2.29375672e-01\n",
      "   2.40700737e-01  2.99251420e-01]\n",
      " [-1.01661905e+00  2.54806056e-01 -1.03048214e-02 -1.24642824e+00\n",
      "   3.52835267e-01 -4.84184169e-01 -5.23622150e-01 -2.52240043e-01\n",
      "   1.00394145e+00  3.08511173e-01]\n",
      " [-1.31191575e+00 -4.77307131e-01  4.07563861e-01  3.69023460e-01\n",
      "   4.21416364e-01  8.44684600e-01 -6.80191004e-01  1.69905281e-01\n",
      "   5.30926502e-01  7.94229188e-01]\n",
      " [-1.00209444e+00 -7.59429348e-01 -3.04215612e-01 -5.59712748e-01\n",
      "   1.05393820e+00 -2.88479338e-01  7.15161282e-01  2.59369748e-01\n",
      "   8.01439007e-02 -7.47293290e-01]\n",
      " [ 1.03294018e+00  1.53181566e+00 -5.60301915e-03  2.00114463e-01\n",
      "  -1.36175568e-01  2.81281946e-01  3.38696286e-01  4.19950806e-01\n",
      "   2.32774405e-02 -6.71444677e-01]\n",
      " [ 1.45456062e+00 -5.84487326e-02 -8.45888587e-01  1.18466423e-01\n",
      "   3.57150483e-01 -1.67450216e-01  4.88434399e-01  4.76124597e-01\n",
      "   1.26366077e-01 -4.53518099e-01]\n",
      " [-1.44320955e+00  2.94812175e-01 -1.16572551e+00  6.85709355e-01\n",
      "   5.03497416e-01  5.72792882e-01 -6.79558815e-01  7.38294321e-02\n",
      "  -1.60466327e-01  3.04548891e-01]\n",
      " [-6.95305872e-01 -1.09970607e-01  1.54796503e+00  6.82851416e-01\n",
      "   3.19687409e-01 -9.64492720e-02 -2.98304495e-01  1.46479291e-01\n",
      "  -5.00616391e-01 -2.37460054e-01]\n",
      " [-1.28863124e+00  9.48152865e-01  5.18514485e-01 -1.12806255e+00\n",
      "   4.48903676e-02 -2.12570552e-01 -5.52189579e-01  5.24762774e-01\n",
      "   4.31709653e-01  2.79377491e-01]\n",
      " [-1.56774712e+00  1.14674484e-01 -4.09092464e-01  6.37285438e-01\n",
      "   7.49696939e-01  4.95267462e-01 -1.79643070e-01  5.31235145e-01\n",
      "   7.36597544e-01  4.17752119e-01]\n",
      " [-7.73490352e-01 -8.06508413e-01 -3.34726943e-01  5.81591629e-01\n",
      "  -7.37591677e-01 -4.24018154e-01 -1.19719165e+00 -6.60909037e-01\n",
      "   2.39848027e-02 -6.06970821e-02]\n",
      " [-9.45356991e-01 -9.09088476e-01 -2.80469662e-01 -5.47850793e-02\n",
      "  -4.95187889e-02 -8.20849835e-01  1.10433509e+00  1.38173060e-01\n",
      "   1.55757629e-01 -7.19460015e-01]\n",
      " [-1.56497626e+00  2.79880170e-02  4.95087594e-02  7.06652590e-01\n",
      "   1.17838735e+00  3.20506391e-01  6.60810116e-01  2.17102981e-02\n",
      "   1.96102558e-02  1.37338628e-01]\n",
      " [ 1.43837979e+00  4.29164617e-02  4.99587045e-01 -3.14298693e-02\n",
      "  -2.79074992e-01  4.53580539e-01 -4.06809653e-02  8.91797550e-01\n",
      "  -6.51536765e-01 -1.06174712e-01]\n",
      " [-1.10458536e+00  8.91944960e-01  2.44228608e-01 -5.05343815e-01\n",
      "  -8.76075734e-01 -8.42176702e-01  1.77521664e-01 -5.63364473e-01\n",
      "  -1.10672778e+00 -8.64059530e-02]\n",
      " [-1.33034890e+00  6.14333113e-01 -1.17483397e+00  2.28337457e-01\n",
      "  -1.10043835e+00  4.22412876e-01  4.90541789e-02 -3.90672497e-01\n",
      "   1.30315765e-01  2.85136687e-02]\n",
      " [-6.92296477e-01 -1.41438362e+00  7.75854390e-02 -3.92414210e-01\n",
      "  -8.06489778e-01 -2.96671626e-01 -2.36666035e-01  2.86368043e-01\n",
      "   6.67073876e-01 -6.25694551e-02]\n",
      " [ 7.31669988e-01  3.36151929e-01  1.52999307e-01  1.92319350e-01\n",
      "  -1.03749377e+00  8.64701386e-01  6.85888831e-01 -5.48674603e-01\n",
      "   2.07775732e-01  4.84141419e-01]]\n"
     ]
    }
   ],
   "source": [
    "pca = PCA(n_components = 10)\n",
    "Xp_train = pca.fit_transform(X_train)\n",
    "Xp_test = pca.transform(X_test)\n",
    "\n",
    "print(\"X_train shape -- > {}\".format(Xp_train.shape))\n",
    "print(\"X_test shape -- > {}\".format(Xp_test.shape), '\\n')\n",
    "\n",
    "print(\"X_train values -- > {}\",Xp_train, '\\n')\n",
    "print(\"X_test values -- > {}\",Xp_test)"
   ]
  },
  {
   "cell_type": "code",
   "execution_count": 38,
   "metadata": {},
   "outputs": [
    {
     "name": "stdout",
     "output_type": "stream",
     "text": [
      "sklearn\n",
      "Centroid values\n",
      "[[ 1.08554313  0.10949143 -0.02443762  0.08847046 -0.00892559  0.01643239\n",
      "   0.03349952  0.03149856  0.00863124  0.02024227]\n",
      " [-0.87039044 -0.08779043  0.01959413 -0.07093577  0.00715655 -0.01317552\n",
      "  -0.02685997 -0.0252556  -0.00692055 -0.01623029]]\n",
      "labels\n",
      "[1 1 1 0 0 1 0 0 1 1 0 0 0 1 0 0 0 0 0 1 0 0 1 1 1 1 0 0 0 1 1 1 0 0 1 0 1\n",
      " 1 1 1 1 0 1 0 1 1 1 1 1 1 1 1 1 0 1 1 1 1 1 0 0 0 0 1 1 1 1 1 0 1 1 1 0 1\n",
      " 1 0 1 0 0 1 1 1 1 0 0 0 1 0 1 0 1 0 0 1 0 1 1 0 1 1 1 0 0 1 1 1 0 1 0 1 0\n",
      " 0 1 1 0 0 0 0 1 0 1 1 1 0 1 0 1 1 1 1 1 1 0 0 0 0 1 1 1 0 0 1 0 0 1 1 1 0\n",
      " 0 0 1 0 0 1 0 1 1 0 1 0 0 1 1 1 0 1 0 1 0 0 1 1 1 1 1 0 0 0 0 0 0 1 0 0 0\n",
      " 1 1 1 1 0 1 1 1 0 1 0 0 0 1 1]\n"
     ]
    }
   ],
   "source": [
    "from sklearn.cluster import KMeans\n",
    "kmeans = KMeans(n_clusters=2)\n",
    "# Fitting the input data\n",
    "kmeans = kmeans.fit(X_std)\n",
    "# Getting the cluster labels\n",
    "cluster_labels = kmeans.predict(X_std)\n",
    "# Centroid values\n",
    "centroids = kmeans.cluster_centers_\n",
    "# Comparing with scikit-learn centroids\n",
    "print(\"sklearn\")\n",
    "print(\"Centroid values\")\n",
    "print(centroids) # From sci-kit learn\n",
    "print(\"labels\")\n",
    "print(cluster_labels) # From sci-kit learn"
   ]
  },
  {
   "cell_type": "code",
   "execution_count": 72,
   "metadata": {},
   "outputs": [
    {
     "data": {
      "text/plain": [
       "(200,)"
      ]
     },
     "execution_count": 72,
     "metadata": {},
     "output_type": "execute_result"
    }
   ],
   "source": [
    "cluster_labels.shape"
   ]
  },
  {
   "cell_type": "code",
   "execution_count": 73,
   "metadata": {},
   "outputs": [
    {
     "data": {
      "text/plain": [
       "(200, 11)"
      ]
     },
     "execution_count": 73,
     "metadata": {},
     "output_type": "execute_result"
    }
   ],
   "source": [
    "Xp_train=np.column_stack([Xp_train,cluster_labels])\n",
    "Xp_train.shape"
   ]
  },
  {
   "cell_type": "code",
   "execution_count": 75,
   "metadata": {},
   "outputs": [
    {
     "data": {
      "text/plain": [
       "(50, 11)"
      ]
     },
     "execution_count": 75,
     "metadata": {},
     "output_type": "execute_result"
    }
   ],
   "source": [
    "cluster_labels = kmeans.predict(Xp_test)\n",
    "Xp_test=np.column_stack([Xp_test,cluster_labels])\n",
    "Xp_test.shape"
   ]
  },
  {
   "cell_type": "code",
   "execution_count": 76,
   "metadata": {},
   "outputs": [
    {
     "data": {
      "text/plain": [
       "SVC(C=3, cache_size=200, class_weight=None, coef0=0.0,\n",
       "    decision_function_shape='ovr', degree=3, gamma=0.025, kernel='linear',\n",
       "    max_iter=-1, probability=False, random_state=None, shrinking=True,\n",
       "    tol=0.001, verbose=False)"
      ]
     },
     "execution_count": 76,
     "metadata": {},
     "output_type": "execute_result"
    }
   ],
   "source": [
    "clf = svm.SVC(gamma=0.025, C=3, kernel='linear') \n",
    "clf.fit(Xp_train , Y_train)"
   ]
  },
  {
   "cell_type": "code",
   "execution_count": 77,
   "metadata": {},
   "outputs": [],
   "source": [
    "Y_pred = clf.predict(Xp_test)"
   ]
  },
  {
   "cell_type": "code",
   "execution_count": 78,
   "metadata": {},
   "outputs": [
    {
     "data": {
      "text/plain": [
       "numpy.ndarray"
      ]
     },
     "execution_count": 78,
     "metadata": {},
     "output_type": "execute_result"
    }
   ],
   "source": [
    "type(Y_pred)"
   ]
  },
  {
   "cell_type": "code",
   "execution_count": 79,
   "metadata": {},
   "outputs": [
    {
     "data": {
      "text/plain": [
       "numpy.ndarray"
      ]
     },
     "execution_count": 79,
     "metadata": {},
     "output_type": "execute_result"
    }
   ],
   "source": [
    "type(Y_train)"
   ]
  },
  {
   "cell_type": "code",
   "execution_count": 80,
   "metadata": {},
   "outputs": [],
   "source": [
    "def getAccuracy(testSet, predictions):\n",
    "\tcorrect = 0\n",
    "\tfor x in range(len(testSet)):\n",
    "\t\tif testSet[x]== predictions[x]:\n",
    "\t\t\tcorrect += 1\n",
    "\treturn (correct/float(len(testSet))) * 100.0"
   ]
  },
  {
   "cell_type": "code",
   "execution_count": 81,
   "metadata": {},
   "outputs": [
    {
     "data": {
      "text/plain": [
       "100.0"
      ]
     },
     "execution_count": 81,
     "metadata": {},
     "output_type": "execute_result"
    }
   ],
   "source": [
    "getAccuracy(Y_test , Y_pred)"
   ]
  },
  {
   "cell_type": "code",
   "execution_count": 82,
   "metadata": {},
   "outputs": [
    {
     "name": "stdout",
     "output_type": "stream",
     "text": [
      "SVM classifier, got 100.0% accuracy on the test set.\n"
     ]
    },
    {
     "data": {
      "text/html": [
       "<div>\n",
       "<style scoped>\n",
       "    .dataframe tbody tr th:only-of-type {\n",
       "        vertical-align: middle;\n",
       "    }\n",
       "\n",
       "    .dataframe tbody tr th {\n",
       "        vertical-align: top;\n",
       "    }\n",
       "\n",
       "    .dataframe thead th {\n",
       "        text-align: right;\n",
       "    }\n",
       "</style>\n",
       "<table border=\"1\" class=\"dataframe\">\n",
       "  <thead>\n",
       "    <tr style=\"text-align: right;\">\n",
       "      <th></th>\n",
       "      <th>Predicted Non-Bankrupt</th>\n",
       "      <th>Predicted Bankrupt</th>\n",
       "    </tr>\n",
       "  </thead>\n",
       "  <tbody>\n",
       "    <tr>\n",
       "      <th>True Non-Bankrupt</th>\n",
       "      <td>18</td>\n",
       "      <td>0</td>\n",
       "    </tr>\n",
       "    <tr>\n",
       "      <th>True Bankrupt</th>\n",
       "      <td>0</td>\n",
       "      <td>32</td>\n",
       "    </tr>\n",
       "  </tbody>\n",
       "</table>\n",
       "</div>"
      ],
      "text/plain": [
       "                   Predicted Non-Bankrupt  Predicted Bankrupt\n",
       "True Non-Bankrupt                      18                   0\n",
       "True Bankrupt                           0                  32"
      ]
     },
     "execution_count": 82,
     "metadata": {},
     "output_type": "execute_result"
    }
   ],
   "source": [
    "print(\"SVM classifier, got {}% accuracy on the test set.\".format(getAccuracy(Y_test , Y_pred)))\n",
    "pd.DataFrame(\n",
    "    confusion_matrix(Y_test, Y_pred),\n",
    "    columns=['Predicted Non-Bankrupt', 'Predicted Bankrupt'],\n",
    "    index=['True Non-Bankrupt', 'True Bankrupt']\n",
    ")"
   ]
  },
  {
   "cell_type": "code",
   "execution_count": null,
   "metadata": {},
   "outputs": [],
   "source": []
  }
 ],
 "metadata": {
  "kernelspec": {
   "display_name": "Python 3",
   "language": "python",
   "name": "python3"
  },
  "language_info": {
   "codemirror_mode": {
    "name": "ipython",
    "version": 3
   },
   "file_extension": ".py",
   "mimetype": "text/x-python",
   "name": "python",
   "nbconvert_exporter": "python",
   "pygments_lexer": "ipython3",
   "version": "3.7.3"
  }
 },
 "nbformat": 4,
 "nbformat_minor": 2
}
